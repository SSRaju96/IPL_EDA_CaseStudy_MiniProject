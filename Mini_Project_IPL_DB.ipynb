{
  "nbformat": 4,
  "nbformat_minor": 0,
  "metadata": {
    "colab": {
      "provenance": [],
      "toc_visible": true
    },
    "kernelspec": {
      "name": "python3",
      "display_name": "Python 3"
    },
    "language_info": {
      "name": "python"
    }
  },
  "cells": [
    {
      "cell_type": "code",
      "execution_count": 2,
      "metadata": {
        "id": "ZoPA4KOwzb7e"
      },
      "outputs": [],
      "source": [
        "#load the libraries\n",
        "import pandas as pd\n",
        "import numpy as np\n",
        "import matplotlib.pyplot as plt\n",
        "import seaborn as sns"
      ]
    },
    {
      "cell_type": "code",
      "source": [
        "# Reading Data from CSV and storing\n",
        "DataF_Ball_Unfilter = pd.read_csv(\"IPL Ball-by-Ball 2008-2020.csv\")\n",
        "DataF_matches_Unfilter = pd.read_csv(\"IPL Matches 2008-2020.csv\")"
      ],
      "metadata": {
        "id": "KKExhq-xzr3f"
      },
      "execution_count": 3,
      "outputs": []
    },
    {
      "cell_type": "code",
      "source": [
        "#Checking loaded Ball Data\n",
        "DataF_Ball_Unfilter.head(5)"
      ],
      "metadata": {
        "colab": {
          "base_uri": "https://localhost:8080/",
          "height": 400
        },
        "id": "19U8Phjl0mXY",
        "outputId": "1010fd98-8913-429d-b433-6aa3144f806b"
      },
      "execution_count": 4,
      "outputs": [
        {
          "output_type": "execute_result",
          "data": {
            "text/plain": [
              "       id  inning  over  ball      batsman  non_striker     bowler  \\\n",
              "0  335982       1     6     5   RT Ponting  BB McCullum  AA Noffke   \n",
              "1  335982       1     6     6  BB McCullum   RT Ponting  AA Noffke   \n",
              "2  335982       1     7     1  BB McCullum   RT Ponting     Z Khan   \n",
              "3  335982       1     7     2  BB McCullum   RT Ponting     Z Khan   \n",
              "4  335982       1     7     3   RT Ponting  BB McCullum     Z Khan   \n",
              "\n",
              "   batsman_runs  extra_runs  total_runs  non_boundary  is_wicket  \\\n",
              "0             1           0           1             0          0   \n",
              "1             1           0           1             0          0   \n",
              "2             0           0           0             0          0   \n",
              "3             1           0           1             0          0   \n",
              "4             1           0           1             0          0   \n",
              "\n",
              "  dismissal_kind player_dismissed fielder extras_type           batting_team  \\\n",
              "0            NaN              NaN     NaN         NaN  Kolkata Knight Riders   \n",
              "1            NaN              NaN     NaN         NaN  Kolkata Knight Riders   \n",
              "2            NaN              NaN     NaN         NaN  Kolkata Knight Riders   \n",
              "3            NaN              NaN     NaN         NaN  Kolkata Knight Riders   \n",
              "4            NaN              NaN     NaN         NaN  Kolkata Knight Riders   \n",
              "\n",
              "                  bowling_team  \n",
              "0  Royal Challengers Bangalore  \n",
              "1  Royal Challengers Bangalore  \n",
              "2  Royal Challengers Bangalore  \n",
              "3  Royal Challengers Bangalore  \n",
              "4  Royal Challengers Bangalore  "
            ],
            "text/html": [
              "\n",
              "  <div id=\"df-5214eb15-d4c4-494c-9471-ddf0d728a20d\" class=\"colab-df-container\">\n",
              "    <div>\n",
              "<style scoped>\n",
              "    .dataframe tbody tr th:only-of-type {\n",
              "        vertical-align: middle;\n",
              "    }\n",
              "\n",
              "    .dataframe tbody tr th {\n",
              "        vertical-align: top;\n",
              "    }\n",
              "\n",
              "    .dataframe thead th {\n",
              "        text-align: right;\n",
              "    }\n",
              "</style>\n",
              "<table border=\"1\" class=\"dataframe\">\n",
              "  <thead>\n",
              "    <tr style=\"text-align: right;\">\n",
              "      <th></th>\n",
              "      <th>id</th>\n",
              "      <th>inning</th>\n",
              "      <th>over</th>\n",
              "      <th>ball</th>\n",
              "      <th>batsman</th>\n",
              "      <th>non_striker</th>\n",
              "      <th>bowler</th>\n",
              "      <th>batsman_runs</th>\n",
              "      <th>extra_runs</th>\n",
              "      <th>total_runs</th>\n",
              "      <th>non_boundary</th>\n",
              "      <th>is_wicket</th>\n",
              "      <th>dismissal_kind</th>\n",
              "      <th>player_dismissed</th>\n",
              "      <th>fielder</th>\n",
              "      <th>extras_type</th>\n",
              "      <th>batting_team</th>\n",
              "      <th>bowling_team</th>\n",
              "    </tr>\n",
              "  </thead>\n",
              "  <tbody>\n",
              "    <tr>\n",
              "      <th>0</th>\n",
              "      <td>335982</td>\n",
              "      <td>1</td>\n",
              "      <td>6</td>\n",
              "      <td>5</td>\n",
              "      <td>RT Ponting</td>\n",
              "      <td>BB McCullum</td>\n",
              "      <td>AA Noffke</td>\n",
              "      <td>1</td>\n",
              "      <td>0</td>\n",
              "      <td>1</td>\n",
              "      <td>0</td>\n",
              "      <td>0</td>\n",
              "      <td>NaN</td>\n",
              "      <td>NaN</td>\n",
              "      <td>NaN</td>\n",
              "      <td>NaN</td>\n",
              "      <td>Kolkata Knight Riders</td>\n",
              "      <td>Royal Challengers Bangalore</td>\n",
              "    </tr>\n",
              "    <tr>\n",
              "      <th>1</th>\n",
              "      <td>335982</td>\n",
              "      <td>1</td>\n",
              "      <td>6</td>\n",
              "      <td>6</td>\n",
              "      <td>BB McCullum</td>\n",
              "      <td>RT Ponting</td>\n",
              "      <td>AA Noffke</td>\n",
              "      <td>1</td>\n",
              "      <td>0</td>\n",
              "      <td>1</td>\n",
              "      <td>0</td>\n",
              "      <td>0</td>\n",
              "      <td>NaN</td>\n",
              "      <td>NaN</td>\n",
              "      <td>NaN</td>\n",
              "      <td>NaN</td>\n",
              "      <td>Kolkata Knight Riders</td>\n",
              "      <td>Royal Challengers Bangalore</td>\n",
              "    </tr>\n",
              "    <tr>\n",
              "      <th>2</th>\n",
              "      <td>335982</td>\n",
              "      <td>1</td>\n",
              "      <td>7</td>\n",
              "      <td>1</td>\n",
              "      <td>BB McCullum</td>\n",
              "      <td>RT Ponting</td>\n",
              "      <td>Z Khan</td>\n",
              "      <td>0</td>\n",
              "      <td>0</td>\n",
              "      <td>0</td>\n",
              "      <td>0</td>\n",
              "      <td>0</td>\n",
              "      <td>NaN</td>\n",
              "      <td>NaN</td>\n",
              "      <td>NaN</td>\n",
              "      <td>NaN</td>\n",
              "      <td>Kolkata Knight Riders</td>\n",
              "      <td>Royal Challengers Bangalore</td>\n",
              "    </tr>\n",
              "    <tr>\n",
              "      <th>3</th>\n",
              "      <td>335982</td>\n",
              "      <td>1</td>\n",
              "      <td>7</td>\n",
              "      <td>2</td>\n",
              "      <td>BB McCullum</td>\n",
              "      <td>RT Ponting</td>\n",
              "      <td>Z Khan</td>\n",
              "      <td>1</td>\n",
              "      <td>0</td>\n",
              "      <td>1</td>\n",
              "      <td>0</td>\n",
              "      <td>0</td>\n",
              "      <td>NaN</td>\n",
              "      <td>NaN</td>\n",
              "      <td>NaN</td>\n",
              "      <td>NaN</td>\n",
              "      <td>Kolkata Knight Riders</td>\n",
              "      <td>Royal Challengers Bangalore</td>\n",
              "    </tr>\n",
              "    <tr>\n",
              "      <th>4</th>\n",
              "      <td>335982</td>\n",
              "      <td>1</td>\n",
              "      <td>7</td>\n",
              "      <td>3</td>\n",
              "      <td>RT Ponting</td>\n",
              "      <td>BB McCullum</td>\n",
              "      <td>Z Khan</td>\n",
              "      <td>1</td>\n",
              "      <td>0</td>\n",
              "      <td>1</td>\n",
              "      <td>0</td>\n",
              "      <td>0</td>\n",
              "      <td>NaN</td>\n",
              "      <td>NaN</td>\n",
              "      <td>NaN</td>\n",
              "      <td>NaN</td>\n",
              "      <td>Kolkata Knight Riders</td>\n",
              "      <td>Royal Challengers Bangalore</td>\n",
              "    </tr>\n",
              "  </tbody>\n",
              "</table>\n",
              "</div>\n",
              "    <div class=\"colab-df-buttons\">\n",
              "\n",
              "  <div class=\"colab-df-container\">\n",
              "    <button class=\"colab-df-convert\" onclick=\"convertToInteractive('df-5214eb15-d4c4-494c-9471-ddf0d728a20d')\"\n",
              "            title=\"Convert this dataframe to an interactive table.\"\n",
              "            style=\"display:none;\">\n",
              "\n",
              "  <svg xmlns=\"http://www.w3.org/2000/svg\" height=\"24px\" viewBox=\"0 -960 960 960\">\n",
              "    <path d=\"M120-120v-720h720v720H120Zm60-500h600v-160H180v160Zm220 220h160v-160H400v160Zm0 220h160v-160H400v160ZM180-400h160v-160H180v160Zm440 0h160v-160H620v160ZM180-180h160v-160H180v160Zm440 0h160v-160H620v160Z\"/>\n",
              "  </svg>\n",
              "    </button>\n",
              "\n",
              "  <style>\n",
              "    .colab-df-container {\n",
              "      display:flex;\n",
              "      gap: 12px;\n",
              "    }\n",
              "\n",
              "    .colab-df-convert {\n",
              "      background-color: #E8F0FE;\n",
              "      border: none;\n",
              "      border-radius: 50%;\n",
              "      cursor: pointer;\n",
              "      display: none;\n",
              "      fill: #1967D2;\n",
              "      height: 32px;\n",
              "      padding: 0 0 0 0;\n",
              "      width: 32px;\n",
              "    }\n",
              "\n",
              "    .colab-df-convert:hover {\n",
              "      background-color: #E2EBFA;\n",
              "      box-shadow: 0px 1px 2px rgba(60, 64, 67, 0.3), 0px 1px 3px 1px rgba(60, 64, 67, 0.15);\n",
              "      fill: #174EA6;\n",
              "    }\n",
              "\n",
              "    .colab-df-buttons div {\n",
              "      margin-bottom: 4px;\n",
              "    }\n",
              "\n",
              "    [theme=dark] .colab-df-convert {\n",
              "      background-color: #3B4455;\n",
              "      fill: #D2E3FC;\n",
              "    }\n",
              "\n",
              "    [theme=dark] .colab-df-convert:hover {\n",
              "      background-color: #434B5C;\n",
              "      box-shadow: 0px 1px 3px 1px rgba(0, 0, 0, 0.15);\n",
              "      filter: drop-shadow(0px 1px 2px rgba(0, 0, 0, 0.3));\n",
              "      fill: #FFFFFF;\n",
              "    }\n",
              "  </style>\n",
              "\n",
              "    <script>\n",
              "      const buttonEl =\n",
              "        document.querySelector('#df-5214eb15-d4c4-494c-9471-ddf0d728a20d button.colab-df-convert');\n",
              "      buttonEl.style.display =\n",
              "        google.colab.kernel.accessAllowed ? 'block' : 'none';\n",
              "\n",
              "      async function convertToInteractive(key) {\n",
              "        const element = document.querySelector('#df-5214eb15-d4c4-494c-9471-ddf0d728a20d');\n",
              "        const dataTable =\n",
              "          await google.colab.kernel.invokeFunction('convertToInteractive',\n",
              "                                                    [key], {});\n",
              "        if (!dataTable) return;\n",
              "\n",
              "        const docLinkHtml = 'Like what you see? Visit the ' +\n",
              "          '<a target=\"_blank\" href=https://colab.research.google.com/notebooks/data_table.ipynb>data table notebook</a>'\n",
              "          + ' to learn more about interactive tables.';\n",
              "        element.innerHTML = '';\n",
              "        dataTable['output_type'] = 'display_data';\n",
              "        await google.colab.output.renderOutput(dataTable, element);\n",
              "        const docLink = document.createElement('div');\n",
              "        docLink.innerHTML = docLinkHtml;\n",
              "        element.appendChild(docLink);\n",
              "      }\n",
              "    </script>\n",
              "  </div>\n",
              "\n",
              "\n",
              "<div id=\"df-cdad5e86-5040-4f7f-a169-05f303d72a5e\">\n",
              "  <button class=\"colab-df-quickchart\" onclick=\"quickchart('df-cdad5e86-5040-4f7f-a169-05f303d72a5e')\"\n",
              "            title=\"Suggest charts\"\n",
              "            style=\"display:none;\">\n",
              "\n",
              "<svg xmlns=\"http://www.w3.org/2000/svg\" height=\"24px\"viewBox=\"0 0 24 24\"\n",
              "     width=\"24px\">\n",
              "    <g>\n",
              "        <path d=\"M19 3H5c-1.1 0-2 .9-2 2v14c0 1.1.9 2 2 2h14c1.1 0 2-.9 2-2V5c0-1.1-.9-2-2-2zM9 17H7v-7h2v7zm4 0h-2V7h2v10zm4 0h-2v-4h2v4z\"/>\n",
              "    </g>\n",
              "</svg>\n",
              "  </button>\n",
              "\n",
              "<style>\n",
              "  .colab-df-quickchart {\n",
              "      --bg-color: #E8F0FE;\n",
              "      --fill-color: #1967D2;\n",
              "      --hover-bg-color: #E2EBFA;\n",
              "      --hover-fill-color: #174EA6;\n",
              "      --disabled-fill-color: #AAA;\n",
              "      --disabled-bg-color: #DDD;\n",
              "  }\n",
              "\n",
              "  [theme=dark] .colab-df-quickchart {\n",
              "      --bg-color: #3B4455;\n",
              "      --fill-color: #D2E3FC;\n",
              "      --hover-bg-color: #434B5C;\n",
              "      --hover-fill-color: #FFFFFF;\n",
              "      --disabled-bg-color: #3B4455;\n",
              "      --disabled-fill-color: #666;\n",
              "  }\n",
              "\n",
              "  .colab-df-quickchart {\n",
              "    background-color: var(--bg-color);\n",
              "    border: none;\n",
              "    border-radius: 50%;\n",
              "    cursor: pointer;\n",
              "    display: none;\n",
              "    fill: var(--fill-color);\n",
              "    height: 32px;\n",
              "    padding: 0;\n",
              "    width: 32px;\n",
              "  }\n",
              "\n",
              "  .colab-df-quickchart:hover {\n",
              "    background-color: var(--hover-bg-color);\n",
              "    box-shadow: 0 1px 2px rgba(60, 64, 67, 0.3), 0 1px 3px 1px rgba(60, 64, 67, 0.15);\n",
              "    fill: var(--button-hover-fill-color);\n",
              "  }\n",
              "\n",
              "  .colab-df-quickchart-complete:disabled,\n",
              "  .colab-df-quickchart-complete:disabled:hover {\n",
              "    background-color: var(--disabled-bg-color);\n",
              "    fill: var(--disabled-fill-color);\n",
              "    box-shadow: none;\n",
              "  }\n",
              "\n",
              "  .colab-df-spinner {\n",
              "    border: 2px solid var(--fill-color);\n",
              "    border-color: transparent;\n",
              "    border-bottom-color: var(--fill-color);\n",
              "    animation:\n",
              "      spin 1s steps(1) infinite;\n",
              "  }\n",
              "\n",
              "  @keyframes spin {\n",
              "    0% {\n",
              "      border-color: transparent;\n",
              "      border-bottom-color: var(--fill-color);\n",
              "      border-left-color: var(--fill-color);\n",
              "    }\n",
              "    20% {\n",
              "      border-color: transparent;\n",
              "      border-left-color: var(--fill-color);\n",
              "      border-top-color: var(--fill-color);\n",
              "    }\n",
              "    30% {\n",
              "      border-color: transparent;\n",
              "      border-left-color: var(--fill-color);\n",
              "      border-top-color: var(--fill-color);\n",
              "      border-right-color: var(--fill-color);\n",
              "    }\n",
              "    40% {\n",
              "      border-color: transparent;\n",
              "      border-right-color: var(--fill-color);\n",
              "      border-top-color: var(--fill-color);\n",
              "    }\n",
              "    60% {\n",
              "      border-color: transparent;\n",
              "      border-right-color: var(--fill-color);\n",
              "    }\n",
              "    80% {\n",
              "      border-color: transparent;\n",
              "      border-right-color: var(--fill-color);\n",
              "      border-bottom-color: var(--fill-color);\n",
              "    }\n",
              "    90% {\n",
              "      border-color: transparent;\n",
              "      border-bottom-color: var(--fill-color);\n",
              "    }\n",
              "  }\n",
              "</style>\n",
              "\n",
              "  <script>\n",
              "    async function quickchart(key) {\n",
              "      const quickchartButtonEl =\n",
              "        document.querySelector('#' + key + ' button');\n",
              "      quickchartButtonEl.disabled = true;  // To prevent multiple clicks.\n",
              "      quickchartButtonEl.classList.add('colab-df-spinner');\n",
              "      try {\n",
              "        const charts = await google.colab.kernel.invokeFunction(\n",
              "            'suggestCharts', [key], {});\n",
              "      } catch (error) {\n",
              "        console.error('Error during call to suggestCharts:', error);\n",
              "      }\n",
              "      quickchartButtonEl.classList.remove('colab-df-spinner');\n",
              "      quickchartButtonEl.classList.add('colab-df-quickchart-complete');\n",
              "    }\n",
              "    (() => {\n",
              "      let quickchartButtonEl =\n",
              "        document.querySelector('#df-cdad5e86-5040-4f7f-a169-05f303d72a5e button');\n",
              "      quickchartButtonEl.style.display =\n",
              "        google.colab.kernel.accessAllowed ? 'block' : 'none';\n",
              "    })();\n",
              "  </script>\n",
              "</div>\n",
              "\n",
              "    </div>\n",
              "  </div>\n"
            ],
            "application/vnd.google.colaboratory.intrinsic+json": {
              "type": "dataframe",
              "variable_name": "DataF_Ball_Unfilter"
            }
          },
          "metadata": {},
          "execution_count": 4
        }
      ]
    },
    {
      "cell_type": "code",
      "source": [
        "# Checking loaded Match data\n",
        "DataF_matches_Unfilter.head(5)"
      ],
      "metadata": {
        "colab": {
          "base_uri": "https://localhost:8080/",
          "height": 417
        },
        "id": "dCe6NFBk1i-r",
        "outputId": "ea38389b-c24e-4158-918a-8f98a59d9bb1"
      },
      "execution_count": 5,
      "outputs": [
        {
          "output_type": "execute_result",
          "data": {
            "text/plain": [
              "       id        city        date player_of_match  \\\n",
              "0  335982   Bangalore  2008-04-18     BB McCullum   \n",
              "1  335983  Chandigarh  2008-04-19      MEK Hussey   \n",
              "2  335984       Delhi  2008-04-19     MF Maharoof   \n",
              "3  335985      Mumbai  2008-04-20      MV Boucher   \n",
              "4  335986     Kolkata  2008-04-20       DJ Hussey   \n",
              "\n",
              "                                        venue  neutral_venue  \\\n",
              "0                       M Chinnaswamy Stadium              0   \n",
              "1  Punjab Cricket Association Stadium, Mohali              0   \n",
              "2                            Feroz Shah Kotla              0   \n",
              "3                            Wankhede Stadium              0   \n",
              "4                                Eden Gardens              0   \n",
              "\n",
              "                         team1                        team2  \\\n",
              "0  Royal Challengers Bangalore        Kolkata Knight Riders   \n",
              "1              Kings XI Punjab          Chennai Super Kings   \n",
              "2             Delhi Daredevils             Rajasthan Royals   \n",
              "3               Mumbai Indians  Royal Challengers Bangalore   \n",
              "4        Kolkata Knight Riders              Deccan Chargers   \n",
              "\n",
              "                   toss_winner toss_decision                       winner  \\\n",
              "0  Royal Challengers Bangalore         field        Kolkata Knight Riders   \n",
              "1          Chennai Super Kings           bat          Chennai Super Kings   \n",
              "2             Rajasthan Royals           bat             Delhi Daredevils   \n",
              "3               Mumbai Indians           bat  Royal Challengers Bangalore   \n",
              "4              Deccan Chargers           bat        Kolkata Knight Riders   \n",
              "\n",
              "    result  result_margin eliminator method    umpire1         umpire2  \n",
              "0     runs          140.0          N    NaN  Asad Rauf     RE Koertzen  \n",
              "1     runs           33.0          N    NaN  MR Benson      SL Shastri  \n",
              "2  wickets            9.0          N    NaN  Aleem Dar  GA Pratapkumar  \n",
              "3  wickets            5.0          N    NaN   SJ Davis       DJ Harper  \n",
              "4  wickets            5.0          N    NaN  BF Bowden     K Hariharan  "
            ],
            "text/html": [
              "\n",
              "  <div id=\"df-9ee46b3a-ae4a-4d1e-be1d-d30e3bacee2d\" class=\"colab-df-container\">\n",
              "    <div>\n",
              "<style scoped>\n",
              "    .dataframe tbody tr th:only-of-type {\n",
              "        vertical-align: middle;\n",
              "    }\n",
              "\n",
              "    .dataframe tbody tr th {\n",
              "        vertical-align: top;\n",
              "    }\n",
              "\n",
              "    .dataframe thead th {\n",
              "        text-align: right;\n",
              "    }\n",
              "</style>\n",
              "<table border=\"1\" class=\"dataframe\">\n",
              "  <thead>\n",
              "    <tr style=\"text-align: right;\">\n",
              "      <th></th>\n",
              "      <th>id</th>\n",
              "      <th>city</th>\n",
              "      <th>date</th>\n",
              "      <th>player_of_match</th>\n",
              "      <th>venue</th>\n",
              "      <th>neutral_venue</th>\n",
              "      <th>team1</th>\n",
              "      <th>team2</th>\n",
              "      <th>toss_winner</th>\n",
              "      <th>toss_decision</th>\n",
              "      <th>winner</th>\n",
              "      <th>result</th>\n",
              "      <th>result_margin</th>\n",
              "      <th>eliminator</th>\n",
              "      <th>method</th>\n",
              "      <th>umpire1</th>\n",
              "      <th>umpire2</th>\n",
              "    </tr>\n",
              "  </thead>\n",
              "  <tbody>\n",
              "    <tr>\n",
              "      <th>0</th>\n",
              "      <td>335982</td>\n",
              "      <td>Bangalore</td>\n",
              "      <td>2008-04-18</td>\n",
              "      <td>BB McCullum</td>\n",
              "      <td>M Chinnaswamy Stadium</td>\n",
              "      <td>0</td>\n",
              "      <td>Royal Challengers Bangalore</td>\n",
              "      <td>Kolkata Knight Riders</td>\n",
              "      <td>Royal Challengers Bangalore</td>\n",
              "      <td>field</td>\n",
              "      <td>Kolkata Knight Riders</td>\n",
              "      <td>runs</td>\n",
              "      <td>140.0</td>\n",
              "      <td>N</td>\n",
              "      <td>NaN</td>\n",
              "      <td>Asad Rauf</td>\n",
              "      <td>RE Koertzen</td>\n",
              "    </tr>\n",
              "    <tr>\n",
              "      <th>1</th>\n",
              "      <td>335983</td>\n",
              "      <td>Chandigarh</td>\n",
              "      <td>2008-04-19</td>\n",
              "      <td>MEK Hussey</td>\n",
              "      <td>Punjab Cricket Association Stadium, Mohali</td>\n",
              "      <td>0</td>\n",
              "      <td>Kings XI Punjab</td>\n",
              "      <td>Chennai Super Kings</td>\n",
              "      <td>Chennai Super Kings</td>\n",
              "      <td>bat</td>\n",
              "      <td>Chennai Super Kings</td>\n",
              "      <td>runs</td>\n",
              "      <td>33.0</td>\n",
              "      <td>N</td>\n",
              "      <td>NaN</td>\n",
              "      <td>MR Benson</td>\n",
              "      <td>SL Shastri</td>\n",
              "    </tr>\n",
              "    <tr>\n",
              "      <th>2</th>\n",
              "      <td>335984</td>\n",
              "      <td>Delhi</td>\n",
              "      <td>2008-04-19</td>\n",
              "      <td>MF Maharoof</td>\n",
              "      <td>Feroz Shah Kotla</td>\n",
              "      <td>0</td>\n",
              "      <td>Delhi Daredevils</td>\n",
              "      <td>Rajasthan Royals</td>\n",
              "      <td>Rajasthan Royals</td>\n",
              "      <td>bat</td>\n",
              "      <td>Delhi Daredevils</td>\n",
              "      <td>wickets</td>\n",
              "      <td>9.0</td>\n",
              "      <td>N</td>\n",
              "      <td>NaN</td>\n",
              "      <td>Aleem Dar</td>\n",
              "      <td>GA Pratapkumar</td>\n",
              "    </tr>\n",
              "    <tr>\n",
              "      <th>3</th>\n",
              "      <td>335985</td>\n",
              "      <td>Mumbai</td>\n",
              "      <td>2008-04-20</td>\n",
              "      <td>MV Boucher</td>\n",
              "      <td>Wankhede Stadium</td>\n",
              "      <td>0</td>\n",
              "      <td>Mumbai Indians</td>\n",
              "      <td>Royal Challengers Bangalore</td>\n",
              "      <td>Mumbai Indians</td>\n",
              "      <td>bat</td>\n",
              "      <td>Royal Challengers Bangalore</td>\n",
              "      <td>wickets</td>\n",
              "      <td>5.0</td>\n",
              "      <td>N</td>\n",
              "      <td>NaN</td>\n",
              "      <td>SJ Davis</td>\n",
              "      <td>DJ Harper</td>\n",
              "    </tr>\n",
              "    <tr>\n",
              "      <th>4</th>\n",
              "      <td>335986</td>\n",
              "      <td>Kolkata</td>\n",
              "      <td>2008-04-20</td>\n",
              "      <td>DJ Hussey</td>\n",
              "      <td>Eden Gardens</td>\n",
              "      <td>0</td>\n",
              "      <td>Kolkata Knight Riders</td>\n",
              "      <td>Deccan Chargers</td>\n",
              "      <td>Deccan Chargers</td>\n",
              "      <td>bat</td>\n",
              "      <td>Kolkata Knight Riders</td>\n",
              "      <td>wickets</td>\n",
              "      <td>5.0</td>\n",
              "      <td>N</td>\n",
              "      <td>NaN</td>\n",
              "      <td>BF Bowden</td>\n",
              "      <td>K Hariharan</td>\n",
              "    </tr>\n",
              "  </tbody>\n",
              "</table>\n",
              "</div>\n",
              "    <div class=\"colab-df-buttons\">\n",
              "\n",
              "  <div class=\"colab-df-container\">\n",
              "    <button class=\"colab-df-convert\" onclick=\"convertToInteractive('df-9ee46b3a-ae4a-4d1e-be1d-d30e3bacee2d')\"\n",
              "            title=\"Convert this dataframe to an interactive table.\"\n",
              "            style=\"display:none;\">\n",
              "\n",
              "  <svg xmlns=\"http://www.w3.org/2000/svg\" height=\"24px\" viewBox=\"0 -960 960 960\">\n",
              "    <path d=\"M120-120v-720h720v720H120Zm60-500h600v-160H180v160Zm220 220h160v-160H400v160Zm0 220h160v-160H400v160ZM180-400h160v-160H180v160Zm440 0h160v-160H620v160ZM180-180h160v-160H180v160Zm440 0h160v-160H620v160Z\"/>\n",
              "  </svg>\n",
              "    </button>\n",
              "\n",
              "  <style>\n",
              "    .colab-df-container {\n",
              "      display:flex;\n",
              "      gap: 12px;\n",
              "    }\n",
              "\n",
              "    .colab-df-convert {\n",
              "      background-color: #E8F0FE;\n",
              "      border: none;\n",
              "      border-radius: 50%;\n",
              "      cursor: pointer;\n",
              "      display: none;\n",
              "      fill: #1967D2;\n",
              "      height: 32px;\n",
              "      padding: 0 0 0 0;\n",
              "      width: 32px;\n",
              "    }\n",
              "\n",
              "    .colab-df-convert:hover {\n",
              "      background-color: #E2EBFA;\n",
              "      box-shadow: 0px 1px 2px rgba(60, 64, 67, 0.3), 0px 1px 3px 1px rgba(60, 64, 67, 0.15);\n",
              "      fill: #174EA6;\n",
              "    }\n",
              "\n",
              "    .colab-df-buttons div {\n",
              "      margin-bottom: 4px;\n",
              "    }\n",
              "\n",
              "    [theme=dark] .colab-df-convert {\n",
              "      background-color: #3B4455;\n",
              "      fill: #D2E3FC;\n",
              "    }\n",
              "\n",
              "    [theme=dark] .colab-df-convert:hover {\n",
              "      background-color: #434B5C;\n",
              "      box-shadow: 0px 1px 3px 1px rgba(0, 0, 0, 0.15);\n",
              "      filter: drop-shadow(0px 1px 2px rgba(0, 0, 0, 0.3));\n",
              "      fill: #FFFFFF;\n",
              "    }\n",
              "  </style>\n",
              "\n",
              "    <script>\n",
              "      const buttonEl =\n",
              "        document.querySelector('#df-9ee46b3a-ae4a-4d1e-be1d-d30e3bacee2d button.colab-df-convert');\n",
              "      buttonEl.style.display =\n",
              "        google.colab.kernel.accessAllowed ? 'block' : 'none';\n",
              "\n",
              "      async function convertToInteractive(key) {\n",
              "        const element = document.querySelector('#df-9ee46b3a-ae4a-4d1e-be1d-d30e3bacee2d');\n",
              "        const dataTable =\n",
              "          await google.colab.kernel.invokeFunction('convertToInteractive',\n",
              "                                                    [key], {});\n",
              "        if (!dataTable) return;\n",
              "\n",
              "        const docLinkHtml = 'Like what you see? Visit the ' +\n",
              "          '<a target=\"_blank\" href=https://colab.research.google.com/notebooks/data_table.ipynb>data table notebook</a>'\n",
              "          + ' to learn more about interactive tables.';\n",
              "        element.innerHTML = '';\n",
              "        dataTable['output_type'] = 'display_data';\n",
              "        await google.colab.output.renderOutput(dataTable, element);\n",
              "        const docLink = document.createElement('div');\n",
              "        docLink.innerHTML = docLinkHtml;\n",
              "        element.appendChild(docLink);\n",
              "      }\n",
              "    </script>\n",
              "  </div>\n",
              "\n",
              "\n",
              "<div id=\"df-bc5c2042-ddc1-4e02-bbd8-9556c763e787\">\n",
              "  <button class=\"colab-df-quickchart\" onclick=\"quickchart('df-bc5c2042-ddc1-4e02-bbd8-9556c763e787')\"\n",
              "            title=\"Suggest charts\"\n",
              "            style=\"display:none;\">\n",
              "\n",
              "<svg xmlns=\"http://www.w3.org/2000/svg\" height=\"24px\"viewBox=\"0 0 24 24\"\n",
              "     width=\"24px\">\n",
              "    <g>\n",
              "        <path d=\"M19 3H5c-1.1 0-2 .9-2 2v14c0 1.1.9 2 2 2h14c1.1 0 2-.9 2-2V5c0-1.1-.9-2-2-2zM9 17H7v-7h2v7zm4 0h-2V7h2v10zm4 0h-2v-4h2v4z\"/>\n",
              "    </g>\n",
              "</svg>\n",
              "  </button>\n",
              "\n",
              "<style>\n",
              "  .colab-df-quickchart {\n",
              "      --bg-color: #E8F0FE;\n",
              "      --fill-color: #1967D2;\n",
              "      --hover-bg-color: #E2EBFA;\n",
              "      --hover-fill-color: #174EA6;\n",
              "      --disabled-fill-color: #AAA;\n",
              "      --disabled-bg-color: #DDD;\n",
              "  }\n",
              "\n",
              "  [theme=dark] .colab-df-quickchart {\n",
              "      --bg-color: #3B4455;\n",
              "      --fill-color: #D2E3FC;\n",
              "      --hover-bg-color: #434B5C;\n",
              "      --hover-fill-color: #FFFFFF;\n",
              "      --disabled-bg-color: #3B4455;\n",
              "      --disabled-fill-color: #666;\n",
              "  }\n",
              "\n",
              "  .colab-df-quickchart {\n",
              "    background-color: var(--bg-color);\n",
              "    border: none;\n",
              "    border-radius: 50%;\n",
              "    cursor: pointer;\n",
              "    display: none;\n",
              "    fill: var(--fill-color);\n",
              "    height: 32px;\n",
              "    padding: 0;\n",
              "    width: 32px;\n",
              "  }\n",
              "\n",
              "  .colab-df-quickchart:hover {\n",
              "    background-color: var(--hover-bg-color);\n",
              "    box-shadow: 0 1px 2px rgba(60, 64, 67, 0.3), 0 1px 3px 1px rgba(60, 64, 67, 0.15);\n",
              "    fill: var(--button-hover-fill-color);\n",
              "  }\n",
              "\n",
              "  .colab-df-quickchart-complete:disabled,\n",
              "  .colab-df-quickchart-complete:disabled:hover {\n",
              "    background-color: var(--disabled-bg-color);\n",
              "    fill: var(--disabled-fill-color);\n",
              "    box-shadow: none;\n",
              "  }\n",
              "\n",
              "  .colab-df-spinner {\n",
              "    border: 2px solid var(--fill-color);\n",
              "    border-color: transparent;\n",
              "    border-bottom-color: var(--fill-color);\n",
              "    animation:\n",
              "      spin 1s steps(1) infinite;\n",
              "  }\n",
              "\n",
              "  @keyframes spin {\n",
              "    0% {\n",
              "      border-color: transparent;\n",
              "      border-bottom-color: var(--fill-color);\n",
              "      border-left-color: var(--fill-color);\n",
              "    }\n",
              "    20% {\n",
              "      border-color: transparent;\n",
              "      border-left-color: var(--fill-color);\n",
              "      border-top-color: var(--fill-color);\n",
              "    }\n",
              "    30% {\n",
              "      border-color: transparent;\n",
              "      border-left-color: var(--fill-color);\n",
              "      border-top-color: var(--fill-color);\n",
              "      border-right-color: var(--fill-color);\n",
              "    }\n",
              "    40% {\n",
              "      border-color: transparent;\n",
              "      border-right-color: var(--fill-color);\n",
              "      border-top-color: var(--fill-color);\n",
              "    }\n",
              "    60% {\n",
              "      border-color: transparent;\n",
              "      border-right-color: var(--fill-color);\n",
              "    }\n",
              "    80% {\n",
              "      border-color: transparent;\n",
              "      border-right-color: var(--fill-color);\n",
              "      border-bottom-color: var(--fill-color);\n",
              "    }\n",
              "    90% {\n",
              "      border-color: transparent;\n",
              "      border-bottom-color: var(--fill-color);\n",
              "    }\n",
              "  }\n",
              "</style>\n",
              "\n",
              "  <script>\n",
              "    async function quickchart(key) {\n",
              "      const quickchartButtonEl =\n",
              "        document.querySelector('#' + key + ' button');\n",
              "      quickchartButtonEl.disabled = true;  // To prevent multiple clicks.\n",
              "      quickchartButtonEl.classList.add('colab-df-spinner');\n",
              "      try {\n",
              "        const charts = await google.colab.kernel.invokeFunction(\n",
              "            'suggestCharts', [key], {});\n",
              "      } catch (error) {\n",
              "        console.error('Error during call to suggestCharts:', error);\n",
              "      }\n",
              "      quickchartButtonEl.classList.remove('colab-df-spinner');\n",
              "      quickchartButtonEl.classList.add('colab-df-quickchart-complete');\n",
              "    }\n",
              "    (() => {\n",
              "      let quickchartButtonEl =\n",
              "        document.querySelector('#df-bc5c2042-ddc1-4e02-bbd8-9556c763e787 button');\n",
              "      quickchartButtonEl.style.display =\n",
              "        google.colab.kernel.accessAllowed ? 'block' : 'none';\n",
              "    })();\n",
              "  </script>\n",
              "</div>\n",
              "\n",
              "    </div>\n",
              "  </div>\n"
            ],
            "application/vnd.google.colaboratory.intrinsic+json": {
              "type": "dataframe",
              "variable_name": "DataF_matches_Unfilter",
              "summary": "{\n  \"name\": \"DataF_matches_Unfilter\",\n  \"rows\": 816,\n  \"fields\": [\n    {\n      \"column\": \"id\",\n      \"properties\": {\n        \"dtype\": \"number\",\n        \"std\": 305894,\n        \"min\": 335982,\n        \"max\": 1237181,\n        \"num_unique_values\": 816,\n        \"samples\": [\n          501220,\n          548359,\n          1178424\n        ],\n        \"semantic_type\": \"\",\n        \"description\": \"\"\n      }\n    },\n    {\n      \"column\": \"city\",\n      \"properties\": {\n        \"dtype\": \"category\",\n        \"num_unique_values\": 32,\n        \"samples\": [\n          \"Bengaluru\",\n          \"Bloemfontein\",\n          \"Raipur\"\n        ],\n        \"semantic_type\": \"\",\n        \"description\": \"\"\n      }\n    },\n    {\n      \"column\": \"date\",\n      \"properties\": {\n        \"dtype\": \"object\",\n        \"num_unique_values\": 596,\n        \"samples\": [\n          \"2012-05-10\",\n          \"2013-04-18\",\n          \"2018-04-19\"\n        ],\n        \"semantic_type\": \"\",\n        \"description\": \"\"\n      }\n    },\n    {\n      \"column\": \"player_of_match\",\n      \"properties\": {\n        \"dtype\": \"category\",\n        \"num_unique_values\": 233,\n        \"samples\": [\n          \"PD Collingwood\",\n          \"AS Joseph\",\n          \"PK Garg\"\n        ],\n        \"semantic_type\": \"\",\n        \"description\": \"\"\n      }\n    },\n    {\n      \"column\": \"venue\",\n      \"properties\": {\n        \"dtype\": \"category\",\n        \"num_unique_values\": 36,\n        \"samples\": [\n          \"M.Chinnaswamy Stadium\",\n          \"Buffalo Park\",\n          \"Shaheed Veer Narayan Singh International Stadium\"\n        ],\n        \"semantic_type\": \"\",\n        \"description\": \"\"\n      }\n    },\n    {\n      \"column\": \"neutral_venue\",\n      \"properties\": {\n        \"dtype\": \"number\",\n        \"std\": 0,\n        \"min\": 0,\n        \"max\": 1,\n        \"num_unique_values\": 2,\n        \"samples\": [\n          1,\n          0\n        ],\n        \"semantic_type\": \"\",\n        \"description\": \"\"\n      }\n    },\n    {\n      \"column\": \"team1\",\n      \"properties\": {\n        \"dtype\": \"category\",\n        \"num_unique_values\": 15,\n        \"samples\": [\n          \"Pune Warriors\",\n          \"Gujarat Lions\"\n        ],\n        \"semantic_type\": \"\",\n        \"description\": \"\"\n      }\n    },\n    {\n      \"column\": \"team2\",\n      \"properties\": {\n        \"dtype\": \"category\",\n        \"num_unique_values\": 15,\n        \"samples\": [\n          \"Pune Warriors\",\n          \"Rising Pune Supergiants\"\n        ],\n        \"semantic_type\": \"\",\n        \"description\": \"\"\n      }\n    },\n    {\n      \"column\": \"toss_winner\",\n      \"properties\": {\n        \"dtype\": \"category\",\n        \"num_unique_values\": 15,\n        \"samples\": [\n          \"Pune Warriors\",\n          \"Gujarat Lions\"\n        ],\n        \"semantic_type\": \"\",\n        \"description\": \"\"\n      }\n    },\n    {\n      \"column\": \"toss_decision\",\n      \"properties\": {\n        \"dtype\": \"category\",\n        \"num_unique_values\": 2,\n        \"samples\": [\n          \"bat\",\n          \"field\"\n        ],\n        \"semantic_type\": \"\",\n        \"description\": \"\"\n      }\n    },\n    {\n      \"column\": \"winner\",\n      \"properties\": {\n        \"dtype\": \"category\",\n        \"num_unique_values\": 15,\n        \"samples\": [\n          \"Kochi Tuskers Kerala\",\n          \"Rising Pune Supergiants\"\n        ],\n        \"semantic_type\": \"\",\n        \"description\": \"\"\n      }\n    },\n    {\n      \"column\": \"result\",\n      \"properties\": {\n        \"dtype\": \"category\",\n        \"num_unique_values\": 3,\n        \"samples\": [\n          \"runs\",\n          \"wickets\"\n        ],\n        \"semantic_type\": \"\",\n        \"description\": \"\"\n      }\n    },\n    {\n      \"column\": \"result_margin\",\n      \"properties\": {\n        \"dtype\": \"number\",\n        \"std\": 22.068426720518385,\n        \"min\": 1.0,\n        \"max\": 146.0,\n        \"num_unique_values\": 91,\n        \"samples\": [\n          17.0,\n          105.0\n        ],\n        \"semantic_type\": \"\",\n        \"description\": \"\"\n      }\n    },\n    {\n      \"column\": \"eliminator\",\n      \"properties\": {\n        \"dtype\": \"category\",\n        \"num_unique_values\": 2,\n        \"samples\": [\n          \"Y\",\n          \"N\"\n        ],\n        \"semantic_type\": \"\",\n        \"description\": \"\"\n      }\n    },\n    {\n      \"column\": \"method\",\n      \"properties\": {\n        \"dtype\": \"category\",\n        \"num_unique_values\": 1,\n        \"samples\": [\n          \"D/L\"\n        ],\n        \"semantic_type\": \"\",\n        \"description\": \"\"\n      }\n    },\n    {\n      \"column\": \"umpire1\",\n      \"properties\": {\n        \"dtype\": \"category\",\n        \"num_unique_values\": 48,\n        \"samples\": [\n          \"BNJ Oxenford\"\n        ],\n        \"semantic_type\": \"\",\n        \"description\": \"\"\n      }\n    },\n    {\n      \"column\": \"umpire2\",\n      \"properties\": {\n        \"dtype\": \"category\",\n        \"num_unique_values\": 47,\n        \"samples\": [\n          \"BNJ Oxenford\"\n        ],\n        \"semantic_type\": \"\",\n        \"description\": \"\"\n      }\n    }\n  ]\n}"
            }
          },
          "metadata": {},
          "execution_count": 5
        }
      ]
    },
    {
      "cell_type": "code",
      "source": [
        "# check the nuber of rows and coulmns in data sets\n",
        "DataF_Ball_Unfilter.shape\n"
      ],
      "metadata": {
        "colab": {
          "base_uri": "https://localhost:8080/"
        },
        "id": "Yumzer5S10q8",
        "outputId": "aeb30b5f-0ef8-449d-e4d3-14b2b0436f42"
      },
      "execution_count": 6,
      "outputs": [
        {
          "output_type": "execute_result",
          "data": {
            "text/plain": [
              "(193468, 18)"
            ]
          },
          "metadata": {},
          "execution_count": 6
        }
      ]
    },
    {
      "cell_type": "code",
      "source": [
        "# check the nuber of rows and coulmns in data sets\n",
        "DataF_matches_Unfilter.shape"
      ],
      "metadata": {
        "colab": {
          "base_uri": "https://localhost:8080/"
        },
        "id": "NGDC6zD92dsk",
        "outputId": "d5ef380b-e094-4165-b86c-08e407e3c2ea"
      },
      "execution_count": 7,
      "outputs": [
        {
          "output_type": "execute_result",
          "data": {
            "text/plain": [
              "(816, 17)"
            ]
          },
          "metadata": {},
          "execution_count": 7
        }
      ]
    },
    {
      "cell_type": "code",
      "source": [
        "# check the data types in Ball data\n",
        "DataF_Ball_Unfilter.dtypes"
      ],
      "metadata": {
        "colab": {
          "base_uri": "https://localhost:8080/"
        },
        "id": "1qt_WuUJ2qRM",
        "outputId": "1a7e79f3-52e9-40bf-eef4-70b4dfabd246"
      },
      "execution_count": 8,
      "outputs": [
        {
          "output_type": "execute_result",
          "data": {
            "text/plain": [
              "id                   int64\n",
              "inning               int64\n",
              "over                 int64\n",
              "ball                 int64\n",
              "batsman             object\n",
              "non_striker         object\n",
              "bowler              object\n",
              "batsman_runs         int64\n",
              "extra_runs           int64\n",
              "total_runs           int64\n",
              "non_boundary         int64\n",
              "is_wicket            int64\n",
              "dismissal_kind      object\n",
              "player_dismissed    object\n",
              "fielder             object\n",
              "extras_type         object\n",
              "batting_team        object\n",
              "bowling_team        object\n",
              "dtype: object"
            ]
          },
          "metadata": {},
          "execution_count": 8
        }
      ]
    },
    {
      "cell_type": "code",
      "source": [
        "# check the data types in Match data\n",
        "DataF_matches_Unfilter.dtypes"
      ],
      "metadata": {
        "colab": {
          "base_uri": "https://localhost:8080/"
        },
        "id": "sZZalu6j2qNn",
        "outputId": "707acff3-0531-46ad-d561-15ac5206e509"
      },
      "execution_count": 9,
      "outputs": [
        {
          "output_type": "execute_result",
          "data": {
            "text/plain": [
              "id                   int64\n",
              "city                object\n",
              "date                object\n",
              "player_of_match     object\n",
              "venue               object\n",
              "neutral_venue        int64\n",
              "team1               object\n",
              "team2               object\n",
              "toss_winner         object\n",
              "toss_decision       object\n",
              "winner              object\n",
              "result              object\n",
              "result_margin      float64\n",
              "eliminator          object\n",
              "method              object\n",
              "umpire1             object\n",
              "umpire2             object\n",
              "dtype: object"
            ]
          },
          "metadata": {},
          "execution_count": 9
        }
      ]
    },
    {
      "cell_type": "code",
      "source": [
        "#check info for Ball data\n",
        "DataF_Ball_Unfilter.info()"
      ],
      "metadata": {
        "colab": {
          "base_uri": "https://localhost:8080/"
        },
        "id": "P9_dFW3h2qK1",
        "outputId": "95a2361e-28fd-41a5-acb0-1cb867f1303a"
      },
      "execution_count": 10,
      "outputs": [
        {
          "output_type": "stream",
          "name": "stdout",
          "text": [
            "<class 'pandas.core.frame.DataFrame'>\n",
            "RangeIndex: 193468 entries, 0 to 193467\n",
            "Data columns (total 18 columns):\n",
            " #   Column            Non-Null Count   Dtype \n",
            "---  ------            --------------   ----- \n",
            " 0   id                193468 non-null  int64 \n",
            " 1   inning            193468 non-null  int64 \n",
            " 2   over              193468 non-null  int64 \n",
            " 3   ball              193468 non-null  int64 \n",
            " 4   batsman           193468 non-null  object\n",
            " 5   non_striker       193468 non-null  object\n",
            " 6   bowler            193468 non-null  object\n",
            " 7   batsman_runs      193468 non-null  int64 \n",
            " 8   extra_runs        193468 non-null  int64 \n",
            " 9   total_runs        193468 non-null  int64 \n",
            " 10  non_boundary      193468 non-null  int64 \n",
            " 11  is_wicket         193468 non-null  int64 \n",
            " 12  dismissal_kind    9495 non-null    object\n",
            " 13  player_dismissed  9495 non-null    object\n",
            " 14  fielder           6784 non-null    object\n",
            " 15  extras_type       10233 non-null   object\n",
            " 16  batting_team      193468 non-null  object\n",
            " 17  bowling_team      193277 non-null  object\n",
            "dtypes: int64(9), object(9)\n",
            "memory usage: 26.6+ MB\n"
          ]
        }
      ]
    },
    {
      "cell_type": "markdown",
      "source": [
        "### Here we have column 12,13,14,15,16,17 are having null values"
      ],
      "metadata": {
        "id": "ThCSusol3l4M"
      }
    },
    {
      "cell_type": "code",
      "source": [
        "#check info for Matach data\n",
        "DataF_matches_Unfilter.info()"
      ],
      "metadata": {
        "colab": {
          "base_uri": "https://localhost:8080/"
        },
        "id": "6P7NucW72qIJ",
        "outputId": "ff39a67e-f136-4dfe-8728-d394b0e725e3"
      },
      "execution_count": 11,
      "outputs": [
        {
          "output_type": "stream",
          "name": "stdout",
          "text": [
            "<class 'pandas.core.frame.DataFrame'>\n",
            "RangeIndex: 816 entries, 0 to 815\n",
            "Data columns (total 17 columns):\n",
            " #   Column           Non-Null Count  Dtype  \n",
            "---  ------           --------------  -----  \n",
            " 0   id               816 non-null    int64  \n",
            " 1   city             803 non-null    object \n",
            " 2   date             816 non-null    object \n",
            " 3   player_of_match  812 non-null    object \n",
            " 4   venue            816 non-null    object \n",
            " 5   neutral_venue    816 non-null    int64  \n",
            " 6   team1            816 non-null    object \n",
            " 7   team2            816 non-null    object \n",
            " 8   toss_winner      816 non-null    object \n",
            " 9   toss_decision    816 non-null    object \n",
            " 10  winner           812 non-null    object \n",
            " 11  result           812 non-null    object \n",
            " 12  result_margin    799 non-null    float64\n",
            " 13  eliminator       812 non-null    object \n",
            " 14  method           19 non-null     object \n",
            " 15  umpire1          816 non-null    object \n",
            " 16  umpire2          816 non-null    object \n",
            "dtypes: float64(1), int64(2), object(14)\n",
            "memory usage: 108.5+ KB\n"
          ]
        }
      ]
    },
    {
      "cell_type": "markdown",
      "source": [
        "### Here ve have column 1,3,10,11,12,13,14 have null vlues Column 14 has highest number of null values"
      ],
      "metadata": {
        "id": "c8txtKiZ4NBW"
      }
    },
    {
      "cell_type": "code",
      "source": [
        "DataF_Ball_Unfilter.isnull().sum()  #check for null values in Ball data\n"
      ],
      "metadata": {
        "id": "lRSjphIy2qDw",
        "colab": {
          "base_uri": "https://localhost:8080/"
        },
        "outputId": "e9ff9f7f-cb9d-44f4-fec3-0f4573755960"
      },
      "execution_count": 12,
      "outputs": [
        {
          "output_type": "execute_result",
          "data": {
            "text/plain": [
              "id                       0\n",
              "inning                   0\n",
              "over                     0\n",
              "ball                     0\n",
              "batsman                  0\n",
              "non_striker              0\n",
              "bowler                   0\n",
              "batsman_runs             0\n",
              "extra_runs               0\n",
              "total_runs               0\n",
              "non_boundary             0\n",
              "is_wicket                0\n",
              "dismissal_kind      183973\n",
              "player_dismissed    183973\n",
              "fielder             186684\n",
              "extras_type         183235\n",
              "batting_team             0\n",
              "bowling_team           191\n",
              "dtype: int64"
            ]
          },
          "metadata": {},
          "execution_count": 12
        }
      ]
    },
    {
      "cell_type": "code",
      "source": [
        "DataF_Ball_Unfilter.dismissal_kind.value_counts() #check for null values in Match data"
      ],
      "metadata": {
        "id": "HkFBOt2D2qBh",
        "colab": {
          "base_uri": "https://localhost:8080/"
        },
        "outputId": "0bde980b-de1a-4a04-ed56-593e948bcab2"
      },
      "execution_count": 13,
      "outputs": [
        {
          "output_type": "execute_result",
          "data": {
            "text/plain": [
              "dismissal_kind\n",
              "caught                   5743\n",
              "bowled                   1700\n",
              "run out                   893\n",
              "lbw                       571\n",
              "stumped                   294\n",
              "caught and bowled         269\n",
              "hit wicket                 12\n",
              "retired hurt               11\n",
              "obstructing the field       2\n",
              "Name: count, dtype: int64"
            ]
          },
          "metadata": {},
          "execution_count": 13
        }
      ]
    },
    {
      "cell_type": "code",
      "source": [
        "set(DataF_Ball_Unfilter.dismissal_kind)"
      ],
      "metadata": {
        "id": "AJFsbh2d2p11",
        "colab": {
          "base_uri": "https://localhost:8080/"
        },
        "outputId": "a5e5c8b1-2edf-4e7a-a7dd-34af6bf388ba"
      },
      "execution_count": 14,
      "outputs": [
        {
          "output_type": "execute_result",
          "data": {
            "text/plain": [
              "{'bowled',\n",
              " 'caught',\n",
              " 'caught and bowled',\n",
              " 'hit wicket',\n",
              " 'lbw',\n",
              " nan,\n",
              " 'obstructing the field',\n",
              " 'retired hurt',\n",
              " 'run out',\n",
              " 'stumped'}"
            ]
          },
          "metadata": {},
          "execution_count": 14
        }
      ]
    },
    {
      "cell_type": "code",
      "source": [
        "DataF_Ball_Cleaned1=DataF_Ball_Unfilter.copy()\n",
        "DataF_matches_Cleaned1= DataF_matches_Unfilter.copy()"
      ],
      "metadata": {
        "id": "DQSCVicvT1jG"
      },
      "execution_count": 15,
      "outputs": []
    },
    {
      "cell_type": "markdown",
      "source": [
        "##treating dismissal kind \"nan\" by replacing with \"not out\""
      ],
      "metadata": {
        "id": "nFK3YqQHTNE4"
      }
    },
    {
      "cell_type": "code",
      "source": [
        "# prompt: treating dismissal kind \"nan\" by replacing with \"not out\"\n",
        "\n",
        "DataF_Ball_Cleaned1['dismissal_kind'].fillna('not out', inplace=True)\n"
      ],
      "metadata": {
        "id": "5BiBcPdnTakQ"
      },
      "execution_count": 16,
      "outputs": []
    },
    {
      "cell_type": "code",
      "source": [
        "set(DataF_Ball_Cleaned1.dismissal_kind)"
      ],
      "metadata": {
        "colab": {
          "base_uri": "https://localhost:8080/"
        },
        "id": "kKRyYLsMT0RJ",
        "outputId": "80e32355-d85c-4aa5-fc1f-d61be2fb1970"
      },
      "execution_count": 17,
      "outputs": [
        {
          "output_type": "execute_result",
          "data": {
            "text/plain": [
              "{'bowled',\n",
              " 'caught',\n",
              " 'caught and bowled',\n",
              " 'hit wicket',\n",
              " 'lbw',\n",
              " 'not out',\n",
              " 'obstructing the field',\n",
              " 'retired hurt',\n",
              " 'run out',\n",
              " 'stumped'}"
            ]
          },
          "metadata": {},
          "execution_count": 17
        }
      ]
    },
    {
      "cell_type": "code",
      "source": [
        "DataF_Ball_Cleaned1['player_dismissed'].fillna('not dismissed', inplace=True)\n",
        "DataF_Ball_Cleaned1['fielder'].fillna('not dismissed', inplace=True)\n",
        "DataF_Ball_Cleaned1['extras_type'].fillna('not extras', inplace=True)"
      ],
      "metadata": {
        "id": "9wEKaffGWNEZ"
      },
      "execution_count": 18,
      "outputs": []
    },
    {
      "cell_type": "markdown",
      "source": [
        "### Some of bowling team data is missed and the date is too small so decided to delete the rows\n",
        "\n",
        "### We can also get the data from the other dataframe to fill missing value"
      ],
      "metadata": {
        "id": "ThhrxyOLY4Q0"
      }
    },
    {
      "cell_type": "code",
      "source": [
        "# prompt: Some of boweling team data is missed and the date is too small so decided to delete the rows\n",
        "\n",
        "DataF_Ball_Cleaned1 = DataF_Ball_Cleaned1.dropna(subset=['bowling_team'])\n",
        "\n"
      ],
      "metadata": {
        "id": "Nf1yk-bmZJpc"
      },
      "execution_count": 19,
      "outputs": []
    },
    {
      "cell_type": "code",
      "source": [
        "DataF_Ball_Cleaned1.info()\n"
      ],
      "metadata": {
        "colab": {
          "base_uri": "https://localhost:8080/"
        },
        "collapsed": true,
        "id": "kG_xNwKqZogu",
        "outputId": "8b0d62a5-4b82-44dd-edec-28162594e573"
      },
      "execution_count": 20,
      "outputs": [
        {
          "output_type": "stream",
          "name": "stdout",
          "text": [
            "<class 'pandas.core.frame.DataFrame'>\n",
            "Index: 193277 entries, 0 to 193467\n",
            "Data columns (total 18 columns):\n",
            " #   Column            Non-Null Count   Dtype \n",
            "---  ------            --------------   ----- \n",
            " 0   id                193277 non-null  int64 \n",
            " 1   inning            193277 non-null  int64 \n",
            " 2   over              193277 non-null  int64 \n",
            " 3   ball              193277 non-null  int64 \n",
            " 4   batsman           193277 non-null  object\n",
            " 5   non_striker       193277 non-null  object\n",
            " 6   bowler            193277 non-null  object\n",
            " 7   batsman_runs      193277 non-null  int64 \n",
            " 8   extra_runs        193277 non-null  int64 \n",
            " 9   total_runs        193277 non-null  int64 \n",
            " 10  non_boundary      193277 non-null  int64 \n",
            " 11  is_wicket         193277 non-null  int64 \n",
            " 12  dismissal_kind    193277 non-null  object\n",
            " 13  player_dismissed  193277 non-null  object\n",
            " 14  fielder           193277 non-null  object\n",
            " 15  extras_type       193277 non-null  object\n",
            " 16  batting_team      193277 non-null  object\n",
            " 17  bowling_team      193277 non-null  object\n",
            "dtypes: int64(9), object(9)\n",
            "memory usage: 28.0+ MB\n"
          ]
        }
      ]
    },
    {
      "cell_type": "code",
      "source": [
        "#Deleting the rows where result is missing\n",
        "DataF_matches_Cleaned1 = DataF_matches_Cleaned1.dropna(subset=['result'])"
      ],
      "metadata": {
        "id": "9VuBcCxacprs"
      },
      "execution_count": 21,
      "outputs": []
    },
    {
      "cell_type": "code",
      "source": [
        "# treating 'method' by replacing Direct in case of non D/L matches\n",
        "DataF_matches_Cleaned1['method'].fillna('Direct',inplace=True)"
      ],
      "metadata": {
        "id": "ZVdRYPG0dmqh"
      },
      "execution_count": 185,
      "outputs": []
    },
    {
      "cell_type": "code",
      "source": [
        "# treating 'result margin' by replacing 0 for tie matches\n",
        "DataF_matches_Cleaned1['result_margin'].fillna(0,inplace=True)\n"
      ],
      "metadata": {
        "id": "UINPGNckfMXn"
      },
      "execution_count": 184,
      "outputs": []
    },
    {
      "cell_type": "code",
      "source": [
        "# prompt: show city NA data in matches\n",
        "\n",
        "DataF_matches_Cleaned1[DataF_matches_Cleaned1['city'].isna()]['venue']\n"
      ],
      "metadata": {
        "colab": {
          "base_uri": "https://localhost:8080/"
        },
        "collapsed": true,
        "id": "QuCgiaOLfsOx",
        "outputId": "aba8400f-f196-4c26-ea79-48eeff3a5a72"
      },
      "execution_count": 24,
      "outputs": [
        {
          "output_type": "execute_result",
          "data": {
            "text/plain": [
              "399                Sharjah Cricket Stadium\n",
              "402    Dubai International Cricket Stadium\n",
              "403    Dubai International Cricket Stadium\n",
              "404                Sharjah Cricket Stadium\n",
              "406                Sharjah Cricket Stadium\n",
              "407    Dubai International Cricket Stadium\n",
              "408                Sharjah Cricket Stadium\n",
              "409    Dubai International Cricket Stadium\n",
              "410    Dubai International Cricket Stadium\n",
              "413                Sharjah Cricket Stadium\n",
              "414                Sharjah Cricket Stadium\n",
              "415    Dubai International Cricket Stadium\n",
              "417    Dubai International Cricket Stadium\n",
              "Name: venue, dtype: object"
            ]
          },
          "metadata": {},
          "execution_count": 24
        }
      ]
    },
    {
      "cell_type": "code",
      "source": [
        "# treating missing city with dubai\n",
        "DataF_matches_Cleaned1['city'].fillna('Dubai',inplace=True)"
      ],
      "metadata": {
        "id": "ktLh6ZuXiY3g"
      },
      "execution_count": 186,
      "outputs": []
    },
    {
      "cell_type": "code",
      "source": [
        "DataF_matches_Cleaned1.info()"
      ],
      "metadata": {
        "colab": {
          "base_uri": "https://localhost:8080/"
        },
        "id": "2of64Ox1is_2",
        "outputId": "ea905f15-dc36-43b1-fb92-12571f5be229"
      },
      "execution_count": 26,
      "outputs": [
        {
          "output_type": "stream",
          "name": "stdout",
          "text": [
            "<class 'pandas.core.frame.DataFrame'>\n",
            "Index: 812 entries, 0 to 815\n",
            "Data columns (total 17 columns):\n",
            " #   Column           Non-Null Count  Dtype  \n",
            "---  ------           --------------  -----  \n",
            " 0   id               812 non-null    int64  \n",
            " 1   city             812 non-null    object \n",
            " 2   date             812 non-null    object \n",
            " 3   player_of_match  812 non-null    object \n",
            " 4   venue            812 non-null    object \n",
            " 5   neutral_venue    812 non-null    int64  \n",
            " 6   team1            812 non-null    object \n",
            " 7   team2            812 non-null    object \n",
            " 8   toss_winner      812 non-null    object \n",
            " 9   toss_decision    812 non-null    object \n",
            " 10  winner           812 non-null    object \n",
            " 11  result           812 non-null    object \n",
            " 12  result_margin    812 non-null    float64\n",
            " 13  eliminator       812 non-null    object \n",
            " 14  method           812 non-null    object \n",
            " 15  umpire1          812 non-null    object \n",
            " 16  umpire2          812 non-null    object \n",
            "dtypes: float64(1), int64(2), object(14)\n",
            "memory usage: 114.2+ KB\n"
          ]
        }
      ]
    },
    {
      "cell_type": "code",
      "source": [
        "DataF_Ball_Cleaned2 = DataF_Ball_Cleaned1.copy()\n",
        "DataF_matches_Cleaned2 = DataF_matches_Cleaned1.copy()"
      ],
      "metadata": {
        "id": "zUXdFfuKs7F1"
      },
      "execution_count": 27,
      "outputs": []
    },
    {
      "cell_type": "code",
      "source": [
        "print(len(DataF_Ball_Cleaned2))\n",
        "print(len(DataF_matches_Cleaned2))"
      ],
      "metadata": {
        "colab": {
          "base_uri": "https://localhost:8080/"
        },
        "id": "VFUwMtMJjzsF",
        "outputId": "e7afb9d7-c588-4369-f59f-33b67f6f7025"
      },
      "execution_count": 28,
      "outputs": [
        {
          "output_type": "stream",
          "name": "stdout",
          "text": [
            "193277\n",
            "812\n"
          ]
        }
      ]
    },
    {
      "cell_type": "code",
      "source": [
        "# Reset the index\n",
        "DataF_matches_Cleaned2.reset_index(drop=True, inplace=True)\n",
        "DataF_Ball_Cleaned2.reset_index(drop=True, inplace=True)"
      ],
      "metadata": {
        "id": "CDZA7VjpUNDl"
      },
      "execution_count": 29,
      "outputs": []
    },
    {
      "cell_type": "code",
      "source": [
        "DataF_matches_Cleaned2.info()"
      ],
      "metadata": {
        "colab": {
          "base_uri": "https://localhost:8080/"
        },
        "id": "rpq2O-X8at3l",
        "outputId": "7a1474fe-2958-45b1-ad52-3a1f88d44e04"
      },
      "execution_count": 30,
      "outputs": [
        {
          "output_type": "stream",
          "name": "stdout",
          "text": [
            "<class 'pandas.core.frame.DataFrame'>\n",
            "RangeIndex: 812 entries, 0 to 811\n",
            "Data columns (total 17 columns):\n",
            " #   Column           Non-Null Count  Dtype  \n",
            "---  ------           --------------  -----  \n",
            " 0   id               812 non-null    int64  \n",
            " 1   city             812 non-null    object \n",
            " 2   date             812 non-null    object \n",
            " 3   player_of_match  812 non-null    object \n",
            " 4   venue            812 non-null    object \n",
            " 5   neutral_venue    812 non-null    int64  \n",
            " 6   team1            812 non-null    object \n",
            " 7   team2            812 non-null    object \n",
            " 8   toss_winner      812 non-null    object \n",
            " 9   toss_decision    812 non-null    object \n",
            " 10  winner           812 non-null    object \n",
            " 11  result           812 non-null    object \n",
            " 12  result_margin    812 non-null    float64\n",
            " 13  eliminator       812 non-null    object \n",
            " 14  method           812 non-null    object \n",
            " 15  umpire1          812 non-null    object \n",
            " 16  umpire2          812 non-null    object \n",
            "dtypes: float64(1), int64(2), object(14)\n",
            "memory usage: 108.0+ KB\n"
          ]
        }
      ]
    },
    {
      "cell_type": "markdown",
      "source": [
        "## Q1 What was the count of matches played in each season?"
      ],
      "metadata": {
        "id": "0fJcFZvGj6rh"
      }
    },
    {
      "cell_type": "code",
      "source": [
        "# prompt: extract only year from the date in DataF_matches_Cleaned2 and assign it to season\n",
        "\n",
        "DataF_matches_Cleaned2['season']=pd.DatetimeIndex(DataF_matches_Cleaned2['date']).year\n",
        "DataF_matches_Cleaned2.info()\n"
      ],
      "metadata": {
        "colab": {
          "base_uri": "https://localhost:8080/"
        },
        "collapsed": true,
        "id": "KRUD1Bt7cCdx",
        "outputId": "f41532d1-d06f-4977-c33e-6b7e9f841f83"
      },
      "execution_count": 31,
      "outputs": [
        {
          "output_type": "stream",
          "name": "stdout",
          "text": [
            "<class 'pandas.core.frame.DataFrame'>\n",
            "RangeIndex: 812 entries, 0 to 811\n",
            "Data columns (total 18 columns):\n",
            " #   Column           Non-Null Count  Dtype  \n",
            "---  ------           --------------  -----  \n",
            " 0   id               812 non-null    int64  \n",
            " 1   city             812 non-null    object \n",
            " 2   date             812 non-null    object \n",
            " 3   player_of_match  812 non-null    object \n",
            " 4   venue            812 non-null    object \n",
            " 5   neutral_venue    812 non-null    int64  \n",
            " 6   team1            812 non-null    object \n",
            " 7   team2            812 non-null    object \n",
            " 8   toss_winner      812 non-null    object \n",
            " 9   toss_decision    812 non-null    object \n",
            " 10  winner           812 non-null    object \n",
            " 11  result           812 non-null    object \n",
            " 12  result_margin    812 non-null    float64\n",
            " 13  eliminator       812 non-null    object \n",
            " 14  method           812 non-null    object \n",
            " 15  umpire1          812 non-null    object \n",
            " 16  umpire2          812 non-null    object \n",
            " 17  season           812 non-null    int32  \n",
            "dtypes: float64(1), int32(1), int64(2), object(14)\n",
            "memory usage: 111.1+ KB\n"
          ]
        }
      ]
    },
    {
      "cell_type": "code",
      "source": [
        "DataF_matches_Cleaned2['season'].value_counts().sort_index()"
      ],
      "metadata": {
        "colab": {
          "base_uri": "https://localhost:8080/"
        },
        "id": "oUQczLFcmCYs",
        "outputId": "a787843d-7e18-40f5-ae80-efd1e3afafe9"
      },
      "execution_count": 32,
      "outputs": [
        {
          "output_type": "execute_result",
          "data": {
            "text/plain": [
              "season\n",
              "2008    58\n",
              "2009    57\n",
              "2010    60\n",
              "2011    72\n",
              "2012    74\n",
              "2013    76\n",
              "2014    60\n",
              "2015    57\n",
              "2016    60\n",
              "2017    59\n",
              "2018    60\n",
              "2019    59\n",
              "2020    60\n",
              "Name: count, dtype: int64"
            ]
          },
          "metadata": {},
          "execution_count": 32
        }
      ]
    },
    {
      "cell_type": "code",
      "source": [
        "DataF_matches_Cleaned2['season'].value_counts().sort_index().plot(kind='bar')"
      ],
      "metadata": {
        "colab": {
          "base_uri": "https://localhost:8080/",
          "height": 488
        },
        "id": "TghBv5uwleyT",
        "outputId": "a57ddc20-4754-4044-e3b7-978e4052d6fa"
      },
      "execution_count": 33,
      "outputs": [
        {
          "output_type": "execute_result",
          "data": {
            "text/plain": [
              "<Axes: xlabel='season'>"
            ]
          },
          "metadata": {},
          "execution_count": 33
        },
        {
          "output_type": "display_data",
          "data": {
            "text/plain": [
              "<Figure size 640x480 with 1 Axes>"
            ],
            "image/png": "[encoded data removed]"
          },
          "metadata": {}
        }
      ]
    },
    {
      "cell_type": "markdown",
      "source": [
        "## Q2 How many runs were scored in each season?\n",
        "## Q3What were the runs scored per match in different seasons?"
      ],
      "metadata": {
        "id": "HE02hQ0nnHhg"
      }
    },
    {
      "cell_type": "code",
      "source": [
        "# add runs per match based on ID in bowling data\n",
        "DataF_Ball_Cleaned2.groupby('id').sum()['total_runs']"
      ],
      "metadata": {
        "colab": {
          "base_uri": "https://localhost:8080/"
        },
        "id": "BpWHVON9nR3O",
        "outputId": "bb2ffacf-aaf9-43e7-e33b-b843b128b982"
      },
      "execution_count": 34,
      "outputs": [
        {
          "output_type": "execute_result",
          "data": {
            "text/plain": [
              "id\n",
              "335982     304\n",
              "335983     447\n",
              "335984     261\n",
              "335985     331\n",
              "335986     222\n",
              "          ... \n",
              "1216547    402\n",
              "1237177    343\n",
              "1237178    263\n",
              "1237180    361\n",
              "1237181    313\n",
              "Name: total_runs, Length: 814, dtype: int64"
            ]
          },
          "metadata": {},
          "execution_count": 34
        }
      ]
    },
    {
      "cell_type": "code",
      "source": [
        "# prompt: Show id of DataF_ball and DataF_match\n",
        "\n",
        "print(\"DataF_Ball_Cleaned2 id:\")\n",
        "print(DataF_Ball_Cleaned2['id'])\n",
        "print(\"\\nDataF_matches_Cleaned2 id:\")\n",
        "print(DataF_matches_Cleaned2['id'])\n"
      ],
      "metadata": {
        "colab": {
          "base_uri": "https://localhost:8080/"
        },
        "id": "oFFEjjsVy803",
        "outputId": "f2a47c0f-45e7-48cf-e2cc-182d2e6d7dd7"
      },
      "execution_count": 35,
      "outputs": [
        {
          "output_type": "stream",
          "name": "stdout",
          "text": [
            "DataF_Ball_Cleaned2 id:\n",
            "0          335982\n",
            "1          335982\n",
            "2          335982\n",
            "3          335982\n",
            "4          335982\n",
            "           ...   \n",
            "193272    1237181\n",
            "193273    1237181\n",
            "193274    1237181\n",
            "193275    1237181\n",
            "193276    1237181\n",
            "Name: id, Length: 193277, dtype: int64\n",
            "\n",
            "DataF_matches_Cleaned2 id:\n",
            "0       335982\n",
            "1       335983\n",
            "2       335984\n",
            "3       335985\n",
            "4       335986\n",
            "        ...   \n",
            "807    1216547\n",
            "808    1237177\n",
            "809    1237178\n",
            "810    1237180\n",
            "811    1237181\n",
            "Name: id, Length: 812, dtype: int64\n"
          ]
        }
      ]
    },
    {
      "cell_type": "code",
      "source": [
        "print (len(DataF_Ball_Cleaned2))\n",
        "print (len(DataF_matches_Cleaned2))"
      ],
      "metadata": {
        "colab": {
          "base_uri": "https://localhost:8080/"
        },
        "id": "hhvckG1uF2Z5",
        "outputId": "4f9048a6-251f-46fb-cdce-2a6c177f7ff0"
      },
      "execution_count": 36,
      "outputs": [
        {
          "output_type": "stream",
          "name": "stdout",
          "text": [
            "193277\n",
            "812\n"
          ]
        }
      ]
    },
    {
      "cell_type": "code",
      "source": [
        "Df_Merge_Ball_Unfiler=pd.merge(DataF_Ball_Unfilter,DataF_matches_Unfilter, on = 'id',how='outer')\n",
        "Df_Merge_Ball_Unfiler1 =Df_Merge_Ball_Unfiler.copy()"
      ],
      "metadata": {
        "id": "z-M3rTEDdFiO"
      },
      "execution_count": 37,
      "outputs": []
    },
    {
      "cell_type": "code",
      "source": [
        "Df_Merge_Ball_Unfiler1.head().T"
      ],
      "metadata": {
        "colab": {
          "base_uri": "https://localhost:8080/",
          "height": 1000
        },
        "id": "MRXP0mmhiuKg",
        "outputId": "855e3aa7-2928-4930-b67f-3dd965192382"
      },
      "execution_count": 38,
      "outputs": [
        {
          "output_type": "execute_result",
          "data": {
            "text/plain": [
              "                                            0                            1  \\\n",
              "id                                     335982                       335982   \n",
              "inning                                      1                            1   \n",
              "over                                        6                            6   \n",
              "ball                                        5                            6   \n",
              "batsman                            RT Ponting                  BB McCullum   \n",
              "non_striker                       BB McCullum                   RT Ponting   \n",
              "bowler                              AA Noffke                    AA Noffke   \n",
              "batsman_runs                                1                            1   \n",
              "extra_runs                                  0                            0   \n",
              "total_runs                                  1                            1   \n",
              "non_boundary                                0                            0   \n",
              "is_wicket                                   0                            0   \n",
              "dismissal_kind                            NaN                          NaN   \n",
              "player_dismissed                          NaN                          NaN   \n",
              "fielder                                   NaN                          NaN   \n",
              "extras_type                               NaN                          NaN   \n",
              "batting_team            Kolkata Knight Riders        Kolkata Knight Riders   \n",
              "bowling_team      Royal Challengers Bangalore  Royal Challengers Bangalore   \n",
              "city                                Bangalore                    Bangalore   \n",
              "date                               2008-04-18                   2008-04-18   \n",
              "player_of_match                   BB McCullum                  BB McCullum   \n",
              "venue                   M Chinnaswamy Stadium        M Chinnaswamy Stadium   \n",
              "neutral_venue                               0                            0   \n",
              "team1             Royal Challengers Bangalore  Royal Challengers Bangalore   \n",
              "team2                   Kolkata Knight Riders        Kolkata Knight Riders   \n",
              "toss_winner       Royal Challengers Bangalore  Royal Challengers Bangalore   \n",
              "toss_decision                           field                        field   \n",
              "winner                  Kolkata Knight Riders        Kolkata Knight Riders   \n",
              "result                                   runs                         runs   \n",
              "result_margin                           140.0                        140.0   \n",
              "eliminator                                  N                            N   \n",
              "method                                    NaN                          NaN   \n",
              "umpire1                             Asad Rauf                    Asad Rauf   \n",
              "umpire2                           RE Koertzen                  RE Koertzen   \n",
              "\n",
              "                                            2                            3  \\\n",
              "id                                     335982                       335982   \n",
              "inning                                      1                            1   \n",
              "over                                        7                            7   \n",
              "ball                                        1                            2   \n",
              "batsman                           BB McCullum                  BB McCullum   \n",
              "non_striker                        RT Ponting                   RT Ponting   \n",
              "bowler                                 Z Khan                       Z Khan   \n",
              "batsman_runs                                0                            1   \n",
              "extra_runs                                  0                            0   \n",
              "total_runs                                  0                            1   \n",
              "non_boundary                                0                            0   \n",
              "is_wicket                                   0                            0   \n",
              "dismissal_kind                            NaN                          NaN   \n",
              "player_dismissed                          NaN                          NaN   \n",
              "fielder                                   NaN                          NaN   \n",
              "extras_type                               NaN                          NaN   \n",
              "batting_team            Kolkata Knight Riders        Kolkata Knight Riders   \n",
              "bowling_team      Royal Challengers Bangalore  Royal Challengers Bangalore   \n",
              "city                                Bangalore                    Bangalore   \n",
              "date                               2008-04-18                   2008-04-18   \n",
              "player_of_match                   BB McCullum                  BB McCullum   \n",
              "venue                   M Chinnaswamy Stadium        M Chinnaswamy Stadium   \n",
              "neutral_venue                               0                            0   \n",
              "team1             Royal Challengers Bangalore  Royal Challengers Bangalore   \n",
              "team2                   Kolkata Knight Riders        Kolkata Knight Riders   \n",
              "toss_winner       Royal Challengers Bangalore  Royal Challengers Bangalore   \n",
              "toss_decision                           field                        field   \n",
              "winner                  Kolkata Knight Riders        Kolkata Knight Riders   \n",
              "result                                   runs                         runs   \n",
              "result_margin                           140.0                        140.0   \n",
              "eliminator                                  N                            N   \n",
              "method                                    NaN                          NaN   \n",
              "umpire1                             Asad Rauf                    Asad Rauf   \n",
              "umpire2                           RE Koertzen                  RE Koertzen   \n",
              "\n",
              "                                            4  \n",
              "id                                     335982  \n",
              "inning                                      1  \n",
              "over                                        7  \n",
              "ball                                        3  \n",
              "batsman                            RT Ponting  \n",
              "non_striker                       BB McCullum  \n",
              "bowler                                 Z Khan  \n",
              "batsman_runs                                1  \n",
              "extra_runs                                  0  \n",
              "total_runs                                  1  \n",
              "non_boundary                                0  \n",
              "is_wicket                                   0  \n",
              "dismissal_kind                            NaN  \n",
              "player_dismissed                          NaN  \n",
              "fielder                                   NaN  \n",
              "extras_type                               NaN  \n",
              "batting_team            Kolkata Knight Riders  \n",
              "bowling_team      Royal Challengers Bangalore  \n",
              "city                                Bangalore  \n",
              "date                               2008-04-18  \n",
              "player_of_match                   BB McCullum  \n",
              "venue                   M Chinnaswamy Stadium  \n",
              "neutral_venue                               0  \n",
              "team1             Royal Challengers Bangalore  \n",
              "team2                   Kolkata Knight Riders  \n",
              "toss_winner       Royal Challengers Bangalore  \n",
              "toss_decision                           field  \n",
              "winner                  Kolkata Knight Riders  \n",
              "result                                   runs  \n",
              "result_margin                           140.0  \n",
              "eliminator                                  N  \n",
              "method                                    NaN  \n",
              "umpire1                             Asad Rauf  \n",
              "umpire2                           RE Koertzen  "
            ],
            "text/html": [
              "\n",
              "  <div id=\"df-3587a2da-28e2-441d-9769-70fd3bc987dd\" class=\"colab-df-container\">\n",
              "    <div>\n",
              "<style scoped>\n",
              "    .dataframe tbody tr th:only-of-type {\n",
              "        vertical-align: middle;\n",
              "    }\n",
              "\n",
              "    .dataframe tbody tr th {\n",
              "        vertical-align: top;\n",
              "    }\n",
              "\n",
              "    .dataframe thead th {\n",
              "        text-align: right;\n",
              "    }\n",
              "</style>\n",
              "<table border=\"1\" class=\"dataframe\">\n",
              "  <thead>\n",
              "    <tr style=\"text-align: right;\">\n",
              "      <th></th>\n",
              "      <th>0</th>\n",
              "      <th>1</th>\n",
              "      <th>2</th>\n",
              "      <th>3</th>\n",
              "      <th>4</th>\n",
              "    </tr>\n",
              "  </thead>\n",
              "  <tbody>\n",
              "    <tr>\n",
              "      <th>id</th>\n",
              "      <td>335982</td>\n",
              "      <td>335982</td>\n",
              "      <td>335982</td>\n",
              "      <td>335982</td>\n",
              "      <td>335982</td>\n",
              "    </tr>\n",
              "    <tr>\n",
              "      <th>inning</th>\n",
              "      <td>1</td>\n",
              "      <td>1</td>\n",
              "      <td>1</td>\n",
              "      <td>1</td>\n",
              "      <td>1</td>\n",
              "    </tr>\n",
              "    <tr>\n",
              "      <th>over</th>\n",
              "      <td>6</td>\n",
              "      <td>6</td>\n",
              "      <td>7</td>\n",
              "      <td>7</td>\n",
              "      <td>7</td>\n",
              "    </tr>\n",
              "    <tr>\n",
              "      <th>ball</th>\n",
              "      <td>5</td>\n",
              "      <td>6</td>\n",
              "      <td>1</td>\n",
              "      <td>2</td>\n",
              "      <td>3</td>\n",
              "    </tr>\n",
              "    <tr>\n",
              "      <th>batsman</th>\n",
              "      <td>RT Ponting</td>\n",
              "      <td>BB McCullum</td>\n",
              "      <td>BB McCullum</td>\n",
              "      <td>BB McCullum</td>\n",
              "      <td>RT Ponting</td>\n",
              "    </tr>\n",
              "    <tr>\n",
              "      <th>non_striker</th>\n",
              "      <td>BB McCullum</td>\n",
              "      <td>RT Ponting</td>\n",
              "      <td>RT Ponting</td>\n",
              "      <td>RT Ponting</td>\n",
              "      <td>BB McCullum</td>\n",
              "    </tr>\n",
              "    <tr>\n",
              "      <th>bowler</th>\n",
              "      <td>AA Noffke</td>\n",
              "      <td>AA Noffke</td>\n",
              "      <td>Z Khan</td>\n",
              "      <td>Z Khan</td>\n",
              "      <td>Z Khan</td>\n",
              "    </tr>\n",
              "    <tr>\n",
              "      <th>batsman_runs</th>\n",
              "      <td>1</td>\n",
              "      <td>1</td>\n",
              "      <td>0</td>\n",
              "      <td>1</td>\n",
              "      <td>1</td>\n",
              "    </tr>\n",
              "    <tr>\n",
              "      <th>extra_runs</th>\n",
              "      <td>0</td>\n",
              "      <td>0</td>\n",
              "      <td>0</td>\n",
              "      <td>0</td>\n",
              "      <td>0</td>\n",
              "    </tr>\n",
              "    <tr>\n",
              "      <th>total_runs</th>\n",
              "      <td>1</td>\n",
              "      <td>1</td>\n",
              "      <td>0</td>\n",
              "      <td>1</td>\n",
              "      <td>1</td>\n",
              "    </tr>\n",
              "    <tr>\n",
              "      <th>non_boundary</th>\n",
              "      <td>0</td>\n",
              "      <td>0</td>\n",
              "      <td>0</td>\n",
              "      <td>0</td>\n",
              "      <td>0</td>\n",
              "    </tr>\n",
              "    <tr>\n",
              "      <th>is_wicket</th>\n",
              "      <td>0</td>\n",
              "      <td>0</td>\n",
              "      <td>0</td>\n",
              "      <td>0</td>\n",
              "      <td>0</td>\n",
              "    </tr>\n",
              "    <tr>\n",
              "      <th>dismissal_kind</th>\n",
              "      <td>NaN</td>\n",
              "      <td>NaN</td>\n",
              "      <td>NaN</td>\n",
              "      <td>NaN</td>\n",
              "      <td>NaN</td>\n",
              "    </tr>\n",
              "    <tr>\n",
              "      <th>player_dismissed</th>\n",
              "      <td>NaN</td>\n",
              "      <td>NaN</td>\n",
              "      <td>NaN</td>\n",
              "      <td>NaN</td>\n",
              "      <td>NaN</td>\n",
              "    </tr>\n",
              "    <tr>\n",
              "      <th>fielder</th>\n",
              "      <td>NaN</td>\n",
              "      <td>NaN</td>\n",
              "      <td>NaN</td>\n",
              "      <td>NaN</td>\n",
              "      <td>NaN</td>\n",
              "    </tr>\n",
              "    <tr>\n",
              "      <th>extras_type</th>\n",
              "      <td>NaN</td>\n",
              "      <td>NaN</td>\n",
              "      <td>NaN</td>\n",
              "      <td>NaN</td>\n",
              "      <td>NaN</td>\n",
              "    </tr>\n",
              "    <tr>\n",
              "      <th>batting_team</th>\n",
              "      <td>Kolkata Knight Riders</td>\n",
              "      <td>Kolkata Knight Riders</td>\n",
              "      <td>Kolkata Knight Riders</td>\n",
              "      <td>Kolkata Knight Riders</td>\n",
              "      <td>Kolkata Knight Riders</td>\n",
              "    </tr>\n",
              "    <tr>\n",
              "      <th>bowling_team</th>\n",
              "      <td>Royal Challengers Bangalore</td>\n",
              "      <td>Royal Challengers Bangalore</td>\n",
              "      <td>Royal Challengers Bangalore</td>\n",
              "      <td>Royal Challengers Bangalore</td>\n",
              "      <td>Royal Challengers Bangalore</td>\n",
              "    </tr>\n",
              "    <tr>\n",
              "      <th>city</th>\n",
              "      <td>Bangalore</td>\n",
              "      <td>Bangalore</td>\n",
              "      <td>Bangalore</td>\n",
              "      <td>Bangalore</td>\n",
              "      <td>Bangalore</td>\n",
              "    </tr>\n",
              "    <tr>\n",
              "      <th>date</th>\n",
              "      <td>2008-04-18</td>\n",
              "      <td>2008-04-18</td>\n",
              "      <td>2008-04-18</td>\n",
              "      <td>2008-04-18</td>\n",
              "      <td>2008-04-18</td>\n",
              "    </tr>\n",
              "    <tr>\n",
              "      <th>player_of_match</th>\n",
              "      <td>BB McCullum</td>\n",
              "      <td>BB McCullum</td>\n",
              "      <td>BB McCullum</td>\n",
              "      <td>BB McCullum</td>\n",
              "      <td>BB McCullum</td>\n",
              "    </tr>\n",
              "    <tr>\n",
              "      <th>venue</th>\n",
              "      <td>M Chinnaswamy Stadium</td>\n",
              "      <td>M Chinnaswamy Stadium</td>\n",
              "      <td>M Chinnaswamy Stadium</td>\n",
              "      <td>M Chinnaswamy Stadium</td>\n",
              "      <td>M Chinnaswamy Stadium</td>\n",
              "    </tr>\n",
              "    <tr>\n",
              "      <th>neutral_venue</th>\n",
              "      <td>0</td>\n",
              "      <td>0</td>\n",
              "      <td>0</td>\n",
              "      <td>0</td>\n",
              "      <td>0</td>\n",
              "    </tr>\n",
              "    <tr>\n",
              "      <th>team1</th>\n",
              "      <td>Royal Challengers Bangalore</td>\n",
              "      <td>Royal Challengers Bangalore</td>\n",
              "      <td>Royal Challengers Bangalore</td>\n",
              "      <td>Royal Challengers Bangalore</td>\n",
              "      <td>Royal Challengers Bangalore</td>\n",
              "    </tr>\n",
              "    <tr>\n",
              "      <th>team2</th>\n",
              "      <td>Kolkata Knight Riders</td>\n",
              "      <td>Kolkata Knight Riders</td>\n",
              "      <td>Kolkata Knight Riders</td>\n",
              "      <td>Kolkata Knight Riders</td>\n",
              "      <td>Kolkata Knight Riders</td>\n",
              "    </tr>\n",
              "    <tr>\n",
              "      <th>toss_winner</th>\n",
              "      <td>Royal Challengers Bangalore</td>\n",
              "      <td>Royal Challengers Bangalore</td>\n",
              "      <td>Royal Challengers Bangalore</td>\n",
              "      <td>Royal Challengers Bangalore</td>\n",
              "      <td>Royal Challengers Bangalore</td>\n",
              "    </tr>\n",
              "    <tr>\n",
              "      <th>toss_decision</th>\n",
              "      <td>field</td>\n",
              "      <td>field</td>\n",
              "      <td>field</td>\n",
              "      <td>field</td>\n",
              "      <td>field</td>\n",
              "    </tr>\n",
              "    <tr>\n",
              "      <th>winner</th>\n",
              "      <td>Kolkata Knight Riders</td>\n",
              "      <td>Kolkata Knight Riders</td>\n",
              "      <td>Kolkata Knight Riders</td>\n",
              "      <td>Kolkata Knight Riders</td>\n",
              "      <td>Kolkata Knight Riders</td>\n",
              "    </tr>\n",
              "    <tr>\n",
              "      <th>result</th>\n",
              "      <td>runs</td>\n",
              "      <td>runs</td>\n",
              "      <td>runs</td>\n",
              "      <td>runs</td>\n",
              "      <td>runs</td>\n",
              "    </tr>\n",
              "    <tr>\n",
              "      <th>result_margin</th>\n",
              "      <td>140.0</td>\n",
              "      <td>140.0</td>\n",
              "      <td>140.0</td>\n",
              "      <td>140.0</td>\n",
              "      <td>140.0</td>\n",
              "    </tr>\n",
              "    <tr>\n",
              "      <th>eliminator</th>\n",
              "      <td>N</td>\n",
              "      <td>N</td>\n",
              "      <td>N</td>\n",
              "      <td>N</td>\n",
              "      <td>N</td>\n",
              "    </tr>\n",
              "    <tr>\n",
              "      <th>method</th>\n",
              "      <td>NaN</td>\n",
              "      <td>NaN</td>\n",
              "      <td>NaN</td>\n",
              "      <td>NaN</td>\n",
              "      <td>NaN</td>\n",
              "    </tr>\n",
              "    <tr>\n",
              "      <th>umpire1</th>\n",
              "      <td>Asad Rauf</td>\n",
              "      <td>Asad Rauf</td>\n",
              "      <td>Asad Rauf</td>\n",
              "      <td>Asad Rauf</td>\n",
              "      <td>Asad Rauf</td>\n",
              "    </tr>\n",
              "    <tr>\n",
              "      <th>umpire2</th>\n",
              "      <td>RE Koertzen</td>\n",
              "      <td>RE Koertzen</td>\n",
              "      <td>RE Koertzen</td>\n",
              "      <td>RE Koertzen</td>\n",
              "      <td>RE Koertzen</td>\n",
              "    </tr>\n",
              "  </tbody>\n",
              "</table>\n",
              "</div>\n",
              "    <div class=\"colab-df-buttons\">\n",
              "\n",
              "  <div class=\"colab-df-container\">\n",
              "    <button class=\"colab-df-convert\" onclick=\"convertToInteractive('df-3587a2da-28e2-441d-9769-70fd3bc987dd')\"\n",
              "            title=\"Convert this dataframe to an interactive table.\"\n",
              "            style=\"display:none;\">\n",
              "\n",
              "  <svg xmlns=\"http://www.w3.org/2000/svg\" height=\"24px\" viewBox=\"0 -960 960 960\">\n",
              "    <path d=\"M120-120v-720h720v720H120Zm60-500h600v-160H180v160Zm220 220h160v-160H400v160Zm0 220h160v-160H400v160ZM180-400h160v-160H180v160Zm440 0h160v-160H620v160ZM180-180h160v-160H180v160Zm440 0h160v-160H620v160Z\"/>\n",
              "  </svg>\n",
              "    </button>\n",
              "\n",
              "  <style>\n",
              "    .colab-df-container {\n",
              "      display:flex;\n",
              "      gap: 12px;\n",
              "    }\n",
              "\n",
              "    .colab-df-convert {\n",
              "      background-color: #E8F0FE;\n",
              "      border: none;\n",
              "      border-radius: 50%;\n",
              "      cursor: pointer;\n",
              "      display: none;\n",
              "      fill: #1967D2;\n",
              "      height: 32px;\n",
              "      padding: 0 0 0 0;\n",
              "      width: 32px;\n",
              "    }\n",
              "\n",
              "    .colab-df-convert:hover {\n",
              "      background-color: #E2EBFA;\n",
              "      box-shadow: 0px 1px 2px rgba(60, 64, 67, 0.3), 0px 1px 3px 1px rgba(60, 64, 67, 0.15);\n",
              "      fill: #174EA6;\n",
              "    }\n",
              "\n",
              "    .colab-df-buttons div {\n",
              "      margin-bottom: 4px;\n",
              "    }\n",
              "\n",
              "    [theme=dark] .colab-df-convert {\n",
              "      background-color: #3B4455;\n",
              "      fill: #D2E3FC;\n",
              "    }\n",
              "\n",
              "    [theme=dark] .colab-df-convert:hover {\n",
              "      background-color: #434B5C;\n",
              "      box-shadow: 0px 1px 3px 1px rgba(0, 0, 0, 0.15);\n",
              "      filter: drop-shadow(0px 1px 2px rgba(0, 0, 0, 0.3));\n",
              "      fill: #FFFFFF;\n",
              "    }\n",
              "  </style>\n",
              "\n",
              "    <script>\n",
              "      const buttonEl =\n",
              "        document.querySelector('#df-3587a2da-28e2-441d-9769-70fd3bc987dd button.colab-df-convert');\n",
              "      buttonEl.style.display =\n",
              "        google.colab.kernel.accessAllowed ? 'block' : 'none';\n",
              "\n",
              "      async function convertToInteractive(key) {\n",
              "        const element = document.querySelector('#df-3587a2da-28e2-441d-9769-70fd3bc987dd');\n",
              "        const dataTable =\n",
              "          await google.colab.kernel.invokeFunction('convertToInteractive',\n",
              "                                                    [key], {});\n",
              "        if (!dataTable) return;\n",
              "\n",
              "        const docLinkHtml = 'Like what you see? Visit the ' +\n",
              "          '<a target=\"_blank\" href=https://colab.research.google.com/notebooks/data_table.ipynb>data table notebook</a>'\n",
              "          + ' to learn more about interactive tables.';\n",
              "        element.innerHTML = '';\n",
              "        dataTable['output_type'] = 'display_data';\n",
              "        await google.colab.output.renderOutput(dataTable, element);\n",
              "        const docLink = document.createElement('div');\n",
              "        docLink.innerHTML = docLinkHtml;\n",
              "        element.appendChild(docLink);\n",
              "      }\n",
              "    </script>\n",
              "  </div>\n",
              "\n",
              "\n",
              "<div id=\"df-2b94c4da-4234-40d0-b3aa-b56fc73d134c\">\n",
              "  <button class=\"colab-df-quickchart\" onclick=\"quickchart('df-2b94c4da-4234-40d0-b3aa-b56fc73d134c')\"\n",
              "            title=\"Suggest charts\"\n",
              "            style=\"display:none;\">\n",
              "\n",
              "<svg xmlns=\"http://www.w3.org/2000/svg\" height=\"24px\"viewBox=\"0 0 24 24\"\n",
              "     width=\"24px\">\n",
              "    <g>\n",
              "        <path d=\"M19 3H5c-1.1 0-2 .9-2 2v14c0 1.1.9 2 2 2h14c1.1 0 2-.9 2-2V5c0-1.1-.9-2-2-2zM9 17H7v-7h2v7zm4 0h-2V7h2v10zm4 0h-2v-4h2v4z\"/>\n",
              "    </g>\n",
              "</svg>\n",
              "  </button>\n",
              "\n",
              "<style>\n",
              "  .colab-df-quickchart {\n",
              "      --bg-color: #E8F0FE;\n",
              "      --fill-color: #1967D2;\n",
              "      --hover-bg-color: #E2EBFA;\n",
              "      --hover-fill-color: #174EA6;\n",
              "      --disabled-fill-color: #AAA;\n",
              "      --disabled-bg-color: #DDD;\n",
              "  }\n",
              "\n",
              "  [theme=dark] .colab-df-quickchart {\n",
              "      --bg-color: #3B4455;\n",
              "      --fill-color: #D2E3FC;\n",
              "      --hover-bg-color: #434B5C;\n",
              "      --hover-fill-color: #FFFFFF;\n",
              "      --disabled-bg-color: #3B4455;\n",
              "      --disabled-fill-color: #666;\n",
              "  }\n",
              "\n",
              "  .colab-df-quickchart {\n",
              "    background-color: var(--bg-color);\n",
              "    border: none;\n",
              "    border-radius: 50%;\n",
              "    cursor: pointer;\n",
              "    display: none;\n",
              "    fill: var(--fill-color);\n",
              "    height: 32px;\n",
              "    padding: 0;\n",
              "    width: 32px;\n",
              "  }\n",
              "\n",
              "  .colab-df-quickchart:hover {\n",
              "    background-color: var(--hover-bg-color);\n",
              "    box-shadow: 0 1px 2px rgba(60, 64, 67, 0.3), 0 1px 3px 1px rgba(60, 64, 67, 0.15);\n",
              "    fill: var(--button-hover-fill-color);\n",
              "  }\n",
              "\n",
              "  .colab-df-quickchart-complete:disabled,\n",
              "  .colab-df-quickchart-complete:disabled:hover {\n",
              "    background-color: var(--disabled-bg-color);\n",
              "    fill: var(--disabled-fill-color);\n",
              "    box-shadow: none;\n",
              "  }\n",
              "\n",
              "  .colab-df-spinner {\n",
              "    border: 2px solid var(--fill-color);\n",
              "    border-color: transparent;\n",
              "    border-bottom-color: var(--fill-color);\n",
              "    animation:\n",
              "      spin 1s steps(1) infinite;\n",
              "  }\n",
              "\n",
              "  @keyframes spin {\n",
              "    0% {\n",
              "      border-color: transparent;\n",
              "      border-bottom-color: var(--fill-color);\n",
              "      border-left-color: var(--fill-color);\n",
              "    }\n",
              "    20% {\n",
              "      border-color: transparent;\n",
              "      border-left-color: var(--fill-color);\n",
              "      border-top-color: var(--fill-color);\n",
              "    }\n",
              "    30% {\n",
              "      border-color: transparent;\n",
              "      border-left-color: var(--fill-color);\n",
              "      border-top-color: var(--fill-color);\n",
              "      border-right-color: var(--fill-color);\n",
              "    }\n",
              "    40% {\n",
              "      border-color: transparent;\n",
              "      border-right-color: var(--fill-color);\n",
              "      border-top-color: var(--fill-color);\n",
              "    }\n",
              "    60% {\n",
              "      border-color: transparent;\n",
              "      border-right-color: var(--fill-color);\n",
              "    }\n",
              "    80% {\n",
              "      border-color: transparent;\n",
              "      border-right-color: var(--fill-color);\n",
              "      border-bottom-color: var(--fill-color);\n",
              "    }\n",
              "    90% {\n",
              "      border-color: transparent;\n",
              "      border-bottom-color: var(--fill-color);\n",
              "    }\n",
              "  }\n",
              "</style>\n",
              "\n",
              "  <script>\n",
              "    async function quickchart(key) {\n",
              "      const quickchartButtonEl =\n",
              "        document.querySelector('#' + key + ' button');\n",
              "      quickchartButtonEl.disabled = true;  // To prevent multiple clicks.\n",
              "      quickchartButtonEl.classList.add('colab-df-spinner');\n",
              "      try {\n",
              "        const charts = await google.colab.kernel.invokeFunction(\n",
              "            'suggestCharts', [key], {});\n",
              "      } catch (error) {\n",
              "        console.error('Error during call to suggestCharts:', error);\n",
              "      }\n",
              "      quickchartButtonEl.classList.remove('colab-df-spinner');\n",
              "      quickchartButtonEl.classList.add('colab-df-quickchart-complete');\n",
              "    }\n",
              "    (() => {\n",
              "      let quickchartButtonEl =\n",
              "        document.querySelector('#df-2b94c4da-4234-40d0-b3aa-b56fc73d134c button');\n",
              "      quickchartButtonEl.style.display =\n",
              "        google.colab.kernel.accessAllowed ? 'block' : 'none';\n",
              "    })();\n",
              "  </script>\n",
              "</div>\n",
              "\n",
              "    </div>\n",
              "  </div>\n"
            ],
            "application/vnd.google.colaboratory.intrinsic+json": {
              "type": "dataframe",
              "variable_name": "Df_Merge_Ball_Unfiler1"
            }
          },
          "metadata": {},
          "execution_count": 38
        }
      ]
    },
    {
      "cell_type": "code",
      "source": [
        "Df_Merge_Ball_Unfiler1['dismissal_kind'].fillna('not out', inplace=True)\n",
        "Df_Merge_Ball_Unfiler1['player_dismissed'].fillna('not dismissed', inplace=True)\n",
        "Df_Merge_Ball_Unfiler1['fielder'].fillna('not dismissed', inplace=True)\n",
        "Df_Merge_Ball_Unfiler1['extras_type'].fillna('not extras', inplace=True)\n",
        "\n",
        "Df_Merge_Ball_Unfiler1['result'].fillna('no result', inplace=True)\n",
        "\n",
        "# treating 'result margin' by replacing 0 for tie matches\n",
        "Df_Merge_Ball_Unfiler1['result_margin'].fillna(0, inplace=True)\n",
        "\n",
        "# treating 'method' by replacing Direct in case of non D/L matches\n",
        "Df_Merge_Ball_Unfiler1['method'].fillna('Direct', inplace=True)\n",
        "\n",
        "# treating missing city with dubai\n",
        "Df_Merge_Ball_Unfiler1['city'].fillna('Dubai', inplace=True)"
      ],
      "metadata": {
        "id": "hAzHTALehpU4"
      },
      "execution_count": 39,
      "outputs": []
    },
    {
      "cell_type": "code",
      "source": [
        "Df_Merge_Ball_Clean1= Df_Merge_Ball_Unfiler1.copy()"
      ],
      "metadata": {
        "id": "PJ69Vv0imxZt"
      },
      "execution_count": 40,
      "outputs": []
    },
    {
      "cell_type": "code",
      "source": [
        "# prompt: save Df_Merge_Ball_Unfiler1 to .csv\n",
        "\n",
        "Df_Merge_Ball_Unfiler1.to_csv('cleaned_data.csv', index=False)\n"
      ],
      "metadata": {
        "id": "wZ0BHUyjhpnF"
      },
      "execution_count": 41,
      "outputs": []
    },
    {
      "cell_type": "code",
      "source": [
        "# prompt: treat missing values of bowling team if team 1 is batting fill bowling team with team 2\n",
        "\n",
        "def fill_missing_bowling_team(df):\n",
        "  for i in range(len(df)):\n",
        "    if pd.isna(df.loc[i, 'bowling_team']):\n",
        "      if df.loc[i, 'batting_team'] == df.loc[i, 'team1']:\n",
        "        df.loc[i, 'bowling_team'] = df.loc[i, 'team2']\n",
        "      else:\n",
        "        df.loc[i, 'bowling_team'] = df.loc[i, 'team1']\n",
        "  return df\n",
        "\n",
        "Df_Merge_Ball_Clean2 = fill_missing_bowling_team(Df_Merge_Ball_Clean1)\n"
      ],
      "metadata": {
        "id": "ZJi6bjXqhppR"
      },
      "execution_count": 42,
      "outputs": []
    },
    {
      "cell_type": "code",
      "source": [
        "# filling missing data with NA\n",
        "Df_Merge_Ball_Clean2['player_of_match'].fillna ('no player', inplace=True)\n",
        "Df_Merge_Ball_Clean2['winner'].fillna ('NA', inplace=True)\n",
        "Df_Merge_Ball_Clean2['eliminator'].fillna ('NA', inplace=True)"
      ],
      "metadata": {
        "id": "n5WPINsjhps7"
      },
      "execution_count": 43,
      "outputs": []
    },
    {
      "cell_type": "code",
      "source": [
        "Df_Merge_Ball_Clean3 = Df_Merge_Ball_Clean2.copy()"
      ],
      "metadata": {
        "id": "J_0ono9AquDx"
      },
      "execution_count": 150,
      "outputs": []
    },
    {
      "cell_type": "code",
      "source": [
        "# creating a  new column 'season' based on year part of 'date'\n",
        "Df_Merge_Ball_Clean3['season']=pd.DatetimeIndex(Df_Merge_Ball_Clean3['date']).year\n",
        "Df_Merge_Ball_Clean3.info()"
      ],
      "metadata": {
        "id": "i7IicLt5rJ5x",
        "colab": {
          "base_uri": "https://localhost:8080/"
        },
        "outputId": "c4ca3f50-cb6c-44e1-e846-f3ac6f4cd57f"
      },
      "execution_count": 151,
      "outputs": [
        {
          "output_type": "stream",
          "name": "stdout",
          "text": [
            "<class 'pandas.core.frame.DataFrame'>\n",
            "RangeIndex: 193468 entries, 0 to 193467\n",
            "Data columns (total 35 columns):\n",
            " #   Column            Non-Null Count   Dtype  \n",
            "---  ------            --------------   -----  \n",
            " 0   id                193468 non-null  int64  \n",
            " 1   inning            193468 non-null  int64  \n",
            " 2   over              193468 non-null  int64  \n",
            " 3   ball              193468 non-null  int64  \n",
            " 4   batsman           193468 non-null  object \n",
            " 5   non_striker       193468 non-null  object \n",
            " 6   bowler            193468 non-null  object \n",
            " 7   batsman_runs      193468 non-null  int64  \n",
            " 8   extra_runs        193468 non-null  int64  \n",
            " 9   total_runs        193468 non-null  int64  \n",
            " 10  non_boundary      193468 non-null  int64  \n",
            " 11  is_wicket         193468 non-null  int64  \n",
            " 12  dismissal_kind    193468 non-null  object \n",
            " 13  player_dismissed  193468 non-null  object \n",
            " 14  fielder           193468 non-null  object \n",
            " 15  extras_type       193468 non-null  object \n",
            " 16  batting_team      193468 non-null  object \n",
            " 17  bowling_team      193468 non-null  object \n",
            " 18  city              193468 non-null  object \n",
            " 19  date              193468 non-null  object \n",
            " 20  player_of_match   193468 non-null  object \n",
            " 21  venue             193468 non-null  object \n",
            " 22  neutral_venue     193468 non-null  int64  \n",
            " 23  team1             193468 non-null  object \n",
            " 24  team2             193468 non-null  object \n",
            " 25  toss_winner       193468 non-null  object \n",
            " 26  toss_decision     193468 non-null  object \n",
            " 27  winner            193468 non-null  object \n",
            " 28  result            193468 non-null  object \n",
            " 29  result_margin     193468 non-null  float64\n",
            " 30  eliminator        193468 non-null  object \n",
            " 31  method            193468 non-null  object \n",
            " 32  umpire1           193468 non-null  object \n",
            " 33  umpire2           193468 non-null  object \n",
            " 34  season            193468 non-null  int32  \n",
            "dtypes: float64(1), int32(1), int64(10), object(23)\n",
            "memory usage: 50.9+ MB\n"
          ]
        }
      ]
    },
    {
      "cell_type": "markdown",
      "source": [
        "###Q1 What was the count of matches played in each season?"
      ],
      "metadata": {
        "id": "BsCmCcEUssUa"
      }
    },
    {
      "cell_type": "code",
      "source": [
        "# prompt: how many unique id are present in each season in Df_Merge_Ball_Clean3\n",
        "\n",
        "Df_Merge_Ball_Clean3.groupby('season')['id'].nunique()\n"
      ],
      "metadata": {
        "colab": {
          "base_uri": "https://localhost:8080/"
        },
        "id": "24pY_gtvueL2",
        "outputId": "8e7f2069-d9ce-4367-d3cb-2860a09a9c64"
      },
      "execution_count": 46,
      "outputs": [
        {
          "output_type": "execute_result",
          "data": {
            "text/plain": [
              "season\n",
              "2008    58\n",
              "2009    57\n",
              "2010    60\n",
              "2011    73\n",
              "2012    74\n",
              "2013    76\n",
              "2014    60\n",
              "2015    59\n",
              "2016    60\n",
              "2017    59\n",
              "2018    60\n",
              "2019    60\n",
              "2020    60\n",
              "Name: id, dtype: int64"
            ]
          },
          "metadata": {},
          "execution_count": 46
        }
      ]
    },
    {
      "cell_type": "markdown",
      "source": [
        "###Q2 How many runs were scored in each season?"
      ],
      "metadata": {
        "id": "QNZ3odeiwgVW"
      }
    },
    {
      "cell_type": "code",
      "source": [
        "Df_Merge_Ball_Clean3.groupby('season')['total_runs'].sum()"
      ],
      "metadata": {
        "colab": {
          "base_uri": "https://localhost:8080/"
        },
        "id": "S68vZ55uwwuU",
        "outputId": "ac9e4b79-5b50-4e1f-bf9b-1beed2bd297c"
      },
      "execution_count": 47,
      "outputs": [
        {
          "output_type": "execute_result",
          "data": {
            "text/plain": [
              "season\n",
              "2008    17937\n",
              "2009    16320\n",
              "2010    18864\n",
              "2011    21154\n",
              "2012    22453\n",
              "2013    22541\n",
              "2014    18909\n",
              "2015    18332\n",
              "2016    18862\n",
              "2017    18769\n",
              "2018    19901\n",
              "2019    19400\n",
              "2020    19352\n",
              "Name: total_runs, dtype: int64"
            ]
          },
          "metadata": {},
          "execution_count": 47
        }
      ]
    },
    {
      "cell_type": "markdown",
      "source": [
        "### Q3 What were the runs scored per match in different seasons?"
      ],
      "metadata": {
        "id": "zpw_LbDRxGq8"
      }
    },
    {
      "cell_type": "code",
      "source": [
        "Df_Merge_Ball_Clean3.groupby(['id','season'])['total_runs'].sum()"
      ],
      "metadata": {
        "colab": {
          "base_uri": "https://localhost:8080/"
        },
        "id": "xXoYB4Z1yecy",
        "outputId": "17bd1569-3fc1-4c29-e806-0818c384bc2f"
      },
      "execution_count": 48,
      "outputs": [
        {
          "output_type": "execute_result",
          "data": {
            "text/plain": [
              "id       season\n",
              "335982   2008      304\n",
              "335983   2008      447\n",
              "335984   2008      261\n",
              "335985   2008      331\n",
              "335986   2008      222\n",
              "                  ... \n",
              "1216547  2020      402\n",
              "1237177  2020      343\n",
              "1237178  2020      263\n",
              "1237180  2020      361\n",
              "1237181  2020      313\n",
              "Name: total_runs, Length: 816, dtype: int64"
            ]
          },
          "metadata": {},
          "execution_count": 48
        }
      ]
    },
    {
      "cell_type": "markdown",
      "source": [
        "### Q4 Who has umpired the most?"
      ],
      "metadata": {
        "id": "VDVfXteKz6_v"
      }
    },
    {
      "cell_type": "code",
      "source": [
        "# prompt: show in Df_Merge_Ball_Clean3  for each unique id umpire1 names\n",
        "\n",
        "Data_umpire1=Df_Merge_Ball_Clean3.groupby('id')['umpire1'].unique()\n",
        "Data_umpire1"
      ],
      "metadata": {
        "colab": {
          "base_uri": "https://localhost:8080/"
        },
        "id": "2BFXwJc42vPM",
        "outputId": "15ac5b91-cefb-47f0-810a-7fa0f453f8b6"
      },
      "execution_count": 49,
      "outputs": [
        {
          "output_type": "execute_result",
          "data": {
            "text/plain": [
              "id\n",
              "335982       [Asad Rauf]\n",
              "335983       [MR Benson]\n",
              "335984       [Aleem Dar]\n",
              "335985        [SJ Davis]\n",
              "335986       [BF Bowden]\n",
              "               ...      \n",
              "1216547    [Nitin Menon]\n",
              "1237177    [CB Gaffaney]\n",
              "1237178     [PR Reiffel]\n",
              "1237180     [PR Reiffel]\n",
              "1237181    [CB Gaffaney]\n",
              "Name: umpire1, Length: 816, dtype: object"
            ]
          },
          "metadata": {},
          "execution_count": 49
        }
      ]
    },
    {
      "cell_type": "code",
      "source": [
        "Data_umpire2=Df_Merge_Ball_Clean3.groupby('id')['umpire2'].unique()\n",
        "Data_umpire2"
      ],
      "metadata": {
        "colab": {
          "base_uri": "https://localhost:8080/"
        },
        "id": "6tK39Aif48EL",
        "outputId": "89daf27b-27b3-4096-924f-55d7ddce3b3e"
      },
      "execution_count": 50,
      "outputs": [
        {
          "output_type": "execute_result",
          "data": {
            "text/plain": [
              "id\n",
              "335982        [RE Koertzen]\n",
              "335983         [SL Shastri]\n",
              "335984     [GA Pratapkumar]\n",
              "335985          [DJ Harper]\n",
              "335986        [K Hariharan]\n",
              "                 ...       \n",
              "1216547        [PR Reiffel]\n",
              "1237177       [Nitin Menon]\n",
              "1237178            [S Ravi]\n",
              "1237180            [S Ravi]\n",
              "1237181       [Nitin Menon]\n",
              "Name: umpire2, Length: 816, dtype: object"
            ]
          },
          "metadata": {},
          "execution_count": 50
        }
      ]
    },
    {
      "cell_type": "code",
      "source": [
        "# prompt: combine Data_umpire1 and Data_umpire2  data\n",
        "\n",
        "Data_umpire = pd.concat([Data_umpire1, Data_umpire2], ignore_index=True)\n",
        "Data_umpire"
      ],
      "metadata": {
        "colab": {
          "base_uri": "https://localhost:8080/"
        },
        "id": "Cv1RCabA5c89",
        "outputId": "56caec98-e80c-466f-b5ba-62e2fa33d427"
      },
      "execution_count": 51,
      "outputs": [
        {
          "output_type": "execute_result",
          "data": {
            "text/plain": [
              "0         [Asad Rauf]\n",
              "1         [MR Benson]\n",
              "2         [Aleem Dar]\n",
              "3          [SJ Davis]\n",
              "4         [BF Bowden]\n",
              "            ...      \n",
              "1627     [PR Reiffel]\n",
              "1628    [Nitin Menon]\n",
              "1629         [S Ravi]\n",
              "1630         [S Ravi]\n",
              "1631    [Nitin Menon]\n",
              "Length: 1632, dtype: object"
            ]
          },
          "metadata": {},
          "execution_count": 51
        }
      ]
    },
    {
      "cell_type": "code",
      "source": [
        "# prompt: mode of Data_umpire\n",
        "\n",
        "Data_umpire.mode()"
      ],
      "metadata": {
        "colab": {
          "base_uri": "https://localhost:8080/"
        },
        "id": "46S7CQ7b6E1E",
        "outputId": "e26684a0-638f-46d4-bbd1-8596ae754fe4"
      },
      "execution_count": 52,
      "outputs": [
        {
          "output_type": "execute_result",
          "data": {
            "text/plain": [
              "0    [S Ravi]\n",
              "dtype: object"
            ]
          },
          "metadata": {},
          "execution_count": 52
        }
      ]
    },
    {
      "cell_type": "code",
      "source": [
        "Data_umpire1.mode()"
      ],
      "metadata": {
        "colab": {
          "base_uri": "https://localhost:8080/"
        },
        "id": "FMmPid_D61Y-",
        "outputId": "f23ab916-5aab-4149-bcd3-262fbfc88c2f"
      },
      "execution_count": 53,
      "outputs": [
        {
          "output_type": "execute_result",
          "data": {
            "text/plain": [
              "0    [HDPK Dharmasena]\n",
              "Name: umpire1, dtype: object"
            ]
          },
          "metadata": {},
          "execution_count": 53
        }
      ]
    },
    {
      "cell_type": "code",
      "source": [
        "Data_umpire2.mode()"
      ],
      "metadata": {
        "colab": {
          "base_uri": "https://localhost:8080/"
        },
        "id": "KlgfQwUh66xl",
        "outputId": "401f8e98-a510-4657-c7da-a778c47256c6"
      },
      "execution_count": 54,
      "outputs": [
        {
          "output_type": "execute_result",
          "data": {
            "text/plain": [
              "0    [S Ravi]\n",
              "Name: umpire2, dtype: object"
            ]
          },
          "metadata": {},
          "execution_count": 54
        }
      ]
    },
    {
      "cell_type": "markdown",
      "source": [
        "#### S Ravi umpired most"
      ],
      "metadata": {
        "id": "HryprAvoQ7Cp"
      }
    },
    {
      "cell_type": "markdown",
      "source": [
        "### Q5 Which team has won the most tosses?"
      ],
      "metadata": {
        "id": "Ix8WAZFM_1as"
      }
    },
    {
      "cell_type": "code",
      "source": [
        "Data_toss_winner=Df_Merge_Ball_Clean3.groupby('id')['toss_winner'].unique()\n",
        "Data_toss_winner"
      ],
      "metadata": {
        "colab": {
          "base_uri": "https://localhost:8080/"
        },
        "collapsed": true,
        "id": "89U-dIJE_45z",
        "outputId": "5c3e7a8c-3dc0-4225-bd24-0a373f1d0dd4"
      },
      "execution_count": 55,
      "outputs": [
        {
          "output_type": "execute_result",
          "data": {
            "text/plain": [
              "id\n",
              "335982     [Royal Challengers Bangalore]\n",
              "335983             [Chennai Super Kings]\n",
              "335984                [Rajasthan Royals]\n",
              "335985                  [Mumbai Indians]\n",
              "335986                 [Deccan Chargers]\n",
              "                       ...              \n",
              "1216547                 [Mumbai Indians]\n",
              "1237177                 [Delhi Capitals]\n",
              "1237178            [Sunrisers Hyderabad]\n",
              "1237180                 [Delhi Capitals]\n",
              "1237181                 [Delhi Capitals]\n",
              "Name: toss_winner, Length: 816, dtype: object"
            ]
          },
          "metadata": {},
          "execution_count": 55
        }
      ]
    },
    {
      "cell_type": "code",
      "source": [
        "Data_toss_winner.value_counts()"
      ],
      "metadata": {
        "colab": {
          "base_uri": "https://localhost:8080/"
        },
        "id": "XLsewxAzAtH5",
        "outputId": "d7f61f17-a55f-4005-ce80-b880ed10fbe3"
      },
      "execution_count": 56,
      "outputs": [
        {
          "output_type": "execute_result",
          "data": {
            "text/plain": [
              "toss_winner\n",
              "[Mumbai Indians]                 106\n",
              "[Kolkata Knight Riders]           98\n",
              "[Chennai Super Kings]             97\n",
              "[Royal Challengers Bangalore]     87\n",
              "[Rajasthan Royals]                87\n",
              "[Kings XI Punjab]                 85\n",
              "[Delhi Daredevils]                80\n",
              "[Sunrisers Hyderabad]             57\n",
              "[Deccan Chargers]                 43\n",
              "[Pune Warriors]                   20\n",
              "[Delhi Capitals]                  20\n",
              "[Gujarat Lions]                   15\n",
              "[Kochi Tuskers Kerala]             8\n",
              "[Rising Pune Supergiants]          7\n",
              "[Rising Pune Supergiant]           6\n",
              "Name: count, dtype: int64"
            ]
          },
          "metadata": {},
          "execution_count": 56
        }
      ]
    },
    {
      "cell_type": "markdown",
      "source": [
        "#### MI has won the most number of tosses"
      ],
      "metadata": {
        "id": "AgYEHzbMBqzm"
      }
    },
    {
      "cell_type": "markdown",
      "source": [
        "### Q6 What does the team decide after winning the toss?"
      ],
      "metadata": {
        "id": "FVdTIgnPCXRL"
      }
    },
    {
      "cell_type": "code",
      "source": [
        "Df_Merge_Ball_Clean3.groupby('id')['toss_decision'].unique().mode()\n"
      ],
      "metadata": {
        "colab": {
          "base_uri": "https://localhost:8080/"
        },
        "id": "Tz29ftsXCPPT",
        "outputId": "a6ab16c8-efaa-4a9d-beba-a9274bf1f733"
      },
      "execution_count": 57,
      "outputs": [
        {
          "output_type": "execute_result",
          "data": {
            "text/plain": [
              "0    [field]\n",
              "Name: toss_decision, dtype: object"
            ]
          },
          "metadata": {},
          "execution_count": 57
        }
      ]
    },
    {
      "cell_type": "markdown",
      "source": [
        "#### Teams decided to choose feild after winning toss"
      ],
      "metadata": {
        "id": "Doa7Xk7ABdY3"
      }
    },
    {
      "cell_type": "markdown",
      "source": [
        "### Q7 How does the toss decision vary across seasons?"
      ],
      "metadata": {
        "id": "daQ587beC9E4"
      }
    },
    {
      "cell_type": "code",
      "source": [
        "Df_Merge_Ball_Clean3_uniqueId = Df_Merge_Ball_Clean3.drop_duplicates(subset=['id'])\n",
        "Df_Merge_Ball_Clean3_uniqueId.reset_index(drop=True, inplace=True)"
      ],
      "metadata": {
        "id": "PcfyUpChCBgV"
      },
      "execution_count": 58,
      "outputs": []
    },
    {
      "cell_type": "code",
      "source": [
        "# prompt: Plot season vs toss decision in Df_Merge_Ball_Clean3_uniqueId\n",
        "\n",
        "import matplotlib.pyplot as plt\n",
        "\n",
        "# Group data by season and toss decision\n",
        "grouped_data = Df_Merge_Ball_Clean3_uniqueId.groupby(['season', 'toss_decision']).size().unstack()\n",
        "\n",
        "# Create bar plot\n",
        "grouped_data.plot(kind='bar', figsize=(15, 8))\n",
        "\n",
        "# Add labels and title\n",
        "plt.xlabel('Season')\n",
        "plt.ylabel('Toss Decision')\n",
        "plt.title('Toss Decision by Season')\n",
        "\n",
        "# Show plot\n",
        "plt.show()\n"
      ],
      "metadata": {
        "colab": {
          "base_uri": "https://localhost:8080/",
          "height": 570
        },
        "id": "MzrKs3DnCDO-",
        "outputId": "d9cc0775-cd97-4c33-e4d3-aeb552ff153a"
      },
      "execution_count": 59,
      "outputs": [
        {
          "output_type": "display_data",
          "data": {
            "text/plain": [
              "<Figure size 1500x800 with 1 Axes>"
            ],
            "image/png": "[encoded data removed]"
          },
          "metadata": {}
        }
      ]
    },
    {
      "cell_type": "markdown",
      "source": [
        "### Q8 Does winning the toss imply winning the game?"
      ],
      "metadata": {
        "id": "tvi8_JtitmxU"
      }
    },
    {
      "cell_type": "code",
      "source": [
        "# comparing coulumns 'toss_Winner' and 'winner'\n",
        "equal_count = 0\n",
        "for i in range(len(Df_Merge_Ball_Clean3_uniqueId)):\n",
        "    if Df_Merge_Ball_Clean3_uniqueId.loc[i, 'toss_winner'] == Df_Merge_Ball_Clean3_uniqueId.loc[i, 'winner']:\n",
        "        equal_count += 1\n",
        "\n",
        "print(f\"Number of matches where toss winner and winner are the same: {equal_count}\",\"outof\" ,len(Df_Merge_Ball_Clean3_uniqueId))\n"
      ],
      "metadata": {
        "colab": {
          "base_uri": "https://localhost:8080/"
        },
        "id": "dJAod5U79y3Q",
        "outputId": "ec3b743f-39fc-4f0b-c6dd-dbd6ac0a003e"
      },
      "execution_count": 60,
      "outputs": [
        {
          "output_type": "stream",
          "name": "stdout",
          "text": [
            "Number of matches where toss winner and winner are the same: 418 outof 816\n"
          ]
        }
      ]
    },
    {
      "cell_type": "markdown",
      "source": [
        "#### yes outof 816 matches 418 matches won when they won the toss"
      ],
      "metadata": {
        "id": "JyhdfinQC4Dj"
      }
    },
    {
      "cell_type": "markdown",
      "source": [
        "### Q9 How many times has the chasing team won the match?"
      ],
      "metadata": {
        "id": "yYKJK-2wDkas"
      }
    },
    {
      "cell_type": "code",
      "source": [
        "# comparing coulumns 'toss_Winner'when toss_decision= feild  and finding 'winner'\n",
        "equal_count = 0\n",
        "for i in range(len(Df_Merge_Ball_Clean3_uniqueId)):\n",
        "    if Df_Merge_Ball_Clean3_uniqueId.loc[i, 'toss_winner'] == Df_Merge_Ball_Clean3_uniqueId.loc[i, 'winner']:\n",
        "        if Df_Merge_Ball_Clean3_uniqueId.loc[i, 'toss_decision'] == 'field':\n",
        "          equal_count += 1\n",
        "\n",
        "print(f\"Number of matches where Chasing team are winners: {equal_count}\",\"outof\" ,len(Df_Merge_Ball_Clean3_uniqueId))\n"
      ],
      "metadata": {
        "colab": {
          "base_uri": "https://localhost:8080/"
        },
        "id": "8GVnkwe7D5SO",
        "outputId": "a4e56173-7208-48c7-e8ab-75edcb9ba6fe"
      },
      "execution_count": 61,
      "outputs": [
        {
          "output_type": "stream",
          "name": "stdout",
          "text": [
            "Number of matches where Chasing team are winners: 273 outof 816\n"
          ]
        }
      ]
    },
    {
      "cell_type": "markdown",
      "source": [
        "#### 273 times Chasing team won the matches"
      ],
      "metadata": {
        "id": "Cbj05BSEGAOb"
      }
    },
    {
      "cell_type": "markdown",
      "source": [
        "### Q10 Which all teams had won this tournament?"
      ],
      "metadata": {
        "id": "EoZI7U01GStj"
      }
    },
    {
      "cell_type": "markdown",
      "source": [
        "#### To find the tornment winner we have to find who has won the last match in each season, this can be find by date column"
      ],
      "metadata": {
        "id": "YdVqhT_0KwJm"
      }
    },
    {
      "cell_type": "code",
      "source": [
        "Df_Merge_Ball_Clean4= Df_Merge_Ball_Clean3.copy()"
      ],
      "metadata": {
        "collapsed": true,
        "id": "cMQMeAdPGdyD"
      },
      "execution_count": 62,
      "outputs": []
    },
    {
      "cell_type": "code",
      "source": [
        "import datetime\n",
        "\n",
        "Df_Merge_Ball_Clean4['date'] = pd.to_datetime(Df_Merge_Ball_Clean4['date'])\n",
        "Df_Merge_Ball_Clean4['date_num'] = Df_Merge_Ball_Clean4['date'].apply(lambda x: x.year * 10000 + x.month * 100 + x.day)"
      ],
      "metadata": {
        "id": "ie3Sz2BvPMKR"
      },
      "execution_count": 63,
      "outputs": []
    },
    {
      "cell_type": "code",
      "source": [
        "winner_by_season = Df_Merge_Ball_Clean4.groupby('season')['date_num'].max().reset_index()\n",
        "winner_by_season = winner_by_season.merge(Df_Merge_Ball_Clean4, on=['season', 'date_num'], how='left')\n",
        "winner_by_season[['season', 'winner']].drop_duplicates().reset_index(drop=True)"
      ],
      "metadata": {
        "colab": {
          "base_uri": "https://localhost:8080/",
          "height": 457
        },
        "id": "aZ4N72wblI7P",
        "outputId": "43dc9ccc-22b7-46fc-9bc9-85dbc7577cb9"
      },
      "execution_count": 64,
      "outputs": [
        {
          "output_type": "execute_result",
          "data": {
            "text/plain": [
              "    season                 winner\n",
              "0     2008       Rajasthan Royals\n",
              "1     2009        Deccan Chargers\n",
              "2     2010    Chennai Super Kings\n",
              "3     2011    Chennai Super Kings\n",
              "4     2012  Kolkata Knight Riders\n",
              "5     2013         Mumbai Indians\n",
              "6     2014  Kolkata Knight Riders\n",
              "7     2015         Mumbai Indians\n",
              "8     2016    Sunrisers Hyderabad\n",
              "9     2017         Mumbai Indians\n",
              "10    2018    Chennai Super Kings\n",
              "11    2019         Mumbai Indians\n",
              "12    2020         Mumbai Indians"
            ],
            "text/html": [
              "\n",
              "  <div id=\"df-cb486dcd-2ab2-4ba9-ab34-34ebdecd024c\" class=\"colab-df-container\">\n",
              "    <div>\n",
              "<style scoped>\n",
              "    .dataframe tbody tr th:only-of-type {\n",
              "        vertical-align: middle;\n",
              "    }\n",
              "\n",
              "    .dataframe tbody tr th {\n",
              "        vertical-align: top;\n",
              "    }\n",
              "\n",
              "    .dataframe thead th {\n",
              "        text-align: right;\n",
              "    }\n",
              "</style>\n",
              "<table border=\"1\" class=\"dataframe\">\n",
              "  <thead>\n",
              "    <tr style=\"text-align: right;\">\n",
              "      <th></th>\n",
              "      <th>season</th>\n",
              "      <th>winner</th>\n",
              "    </tr>\n",
              "  </thead>\n",
              "  <tbody>\n",
              "    <tr>\n",
              "      <th>0</th>\n",
              "      <td>2008</td>\n",
              "      <td>Rajasthan Royals</td>\n",
              "    </tr>\n",
              "    <tr>\n",
              "      <th>1</th>\n",
              "      <td>2009</td>\n",
              "      <td>Deccan Chargers</td>\n",
              "    </tr>\n",
              "    <tr>\n",
              "      <th>2</th>\n",
              "      <td>2010</td>\n",
              "      <td>Chennai Super Kings</td>\n",
              "    </tr>\n",
              "    <tr>\n",
              "      <th>3</th>\n",
              "      <td>2011</td>\n",
              "      <td>Chennai Super Kings</td>\n",
              "    </tr>\n",
              "    <tr>\n",
              "      <th>4</th>\n",
              "      <td>2012</td>\n",
              "      <td>Kolkata Knight Riders</td>\n",
              "    </tr>\n",
              "    <tr>\n",
              "      <th>5</th>\n",
              "      <td>2013</td>\n",
              "      <td>Mumbai Indians</td>\n",
              "    </tr>\n",
              "    <tr>\n",
              "      <th>6</th>\n",
              "      <td>2014</td>\n",
              "      <td>Kolkata Knight Riders</td>\n",
              "    </tr>\n",
              "    <tr>\n",
              "      <th>7</th>\n",
              "      <td>2015</td>\n",
              "      <td>Mumbai Indians</td>\n",
              "    </tr>\n",
              "    <tr>\n",
              "      <th>8</th>\n",
              "      <td>2016</td>\n",
              "      <td>Sunrisers Hyderabad</td>\n",
              "    </tr>\n",
              "    <tr>\n",
              "      <th>9</th>\n",
              "      <td>2017</td>\n",
              "      <td>Mumbai Indians</td>\n",
              "    </tr>\n",
              "    <tr>\n",
              "      <th>10</th>\n",
              "      <td>2018</td>\n",
              "      <td>Chennai Super Kings</td>\n",
              "    </tr>\n",
              "    <tr>\n",
              "      <th>11</th>\n",
              "      <td>2019</td>\n",
              "      <td>Mumbai Indians</td>\n",
              "    </tr>\n",
              "    <tr>\n",
              "      <th>12</th>\n",
              "      <td>2020</td>\n",
              "      <td>Mumbai Indians</td>\n",
              "    </tr>\n",
              "  </tbody>\n",
              "</table>\n",
              "</div>\n",
              "    <div class=\"colab-df-buttons\">\n",
              "\n",
              "  <div class=\"colab-df-container\">\n",
              "    <button class=\"colab-df-convert\" onclick=\"convertToInteractive('df-cb486dcd-2ab2-4ba9-ab34-34ebdecd024c')\"\n",
              "            title=\"Convert this dataframe to an interactive table.\"\n",
              "            style=\"display:none;\">\n",
              "\n",
              "  <svg xmlns=\"http://www.w3.org/2000/svg\" height=\"24px\" viewBox=\"0 -960 960 960\">\n",
              "    <path d=\"M120-120v-720h720v720H120Zm60-500h600v-160H180v160Zm220 220h160v-160H400v160Zm0 220h160v-160H400v160ZM180-400h160v-160H180v160Zm440 0h160v-160H620v160ZM180-180h160v-160H180v160Zm440 0h160v-160H620v160Z\"/>\n",
              "  </svg>\n",
              "    </button>\n",
              "\n",
              "  <style>\n",
              "    .colab-df-container {\n",
              "      display:flex;\n",
              "      gap: 12px;\n",
              "    }\n",
              "\n",
              "    .colab-df-convert {\n",
              "      background-color: #E8F0FE;\n",
              "      border: none;\n",
              "      border-radius: 50%;\n",
              "      cursor: pointer;\n",
              "      display: none;\n",
              "      fill: #1967D2;\n",
              "      height: 32px;\n",
              "      padding: 0 0 0 0;\n",
              "      width: 32px;\n",
              "    }\n",
              "\n",
              "    .colab-df-convert:hover {\n",
              "      background-color: #E2EBFA;\n",
              "      box-shadow: 0px 1px 2px rgba(60, 64, 67, 0.3), 0px 1px 3px 1px rgba(60, 64, 67, 0.15);\n",
              "      fill: #174EA6;\n",
              "    }\n",
              "\n",
              "    .colab-df-buttons div {\n",
              "      margin-bottom: 4px;\n",
              "    }\n",
              "\n",
              "    [theme=dark] .colab-df-convert {\n",
              "      background-color: #3B4455;\n",
              "      fill: #D2E3FC;\n",
              "    }\n",
              "\n",
              "    [theme=dark] .colab-df-convert:hover {\n",
              "      background-color: #434B5C;\n",
              "      box-shadow: 0px 1px 3px 1px rgba(0, 0, 0, 0.15);\n",
              "      filter: drop-shadow(0px 1px 2px rgba(0, 0, 0, 0.3));\n",
              "      fill: #FFFFFF;\n",
              "    }\n",
              "  </style>\n",
              "\n",
              "    <script>\n",
              "      const buttonEl =\n",
              "        document.querySelector('#df-cb486dcd-2ab2-4ba9-ab34-34ebdecd024c button.colab-df-convert');\n",
              "      buttonEl.style.display =\n",
              "        google.colab.kernel.accessAllowed ? 'block' : 'none';\n",
              "\n",
              "      async function convertToInteractive(key) {\n",
              "        const element = document.querySelector('#df-cb486dcd-2ab2-4ba9-ab34-34ebdecd024c');\n",
              "        const dataTable =\n",
              "          await google.colab.kernel.invokeFunction('convertToInteractive',\n",
              "                                                    [key], {});\n",
              "        if (!dataTable) return;\n",
              "\n",
              "        const docLinkHtml = 'Like what you see? Visit the ' +\n",
              "          '<a target=\"_blank\" href=https://colab.research.google.com/notebooks/data_table.ipynb>data table notebook</a>'\n",
              "          + ' to learn more about interactive tables.';\n",
              "        element.innerHTML = '';\n",
              "        dataTable['output_type'] = 'display_data';\n",
              "        await google.colab.output.renderOutput(dataTable, element);\n",
              "        const docLink = document.createElement('div');\n",
              "        docLink.innerHTML = docLinkHtml;\n",
              "        element.appendChild(docLink);\n",
              "      }\n",
              "    </script>\n",
              "  </div>\n",
              "\n",
              "\n",
              "<div id=\"df-fc13418d-186e-4004-831a-ad695b391a2c\">\n",
              "  <button class=\"colab-df-quickchart\" onclick=\"quickchart('df-fc13418d-186e-4004-831a-ad695b391a2c')\"\n",
              "            title=\"Suggest charts\"\n",
              "            style=\"display:none;\">\n",
              "\n",
              "<svg xmlns=\"http://www.w3.org/2000/svg\" height=\"24px\"viewBox=\"0 0 24 24\"\n",
              "     width=\"24px\">\n",
              "    <g>\n",
              "        <path d=\"M19 3H5c-1.1 0-2 .9-2 2v14c0 1.1.9 2 2 2h14c1.1 0 2-.9 2-2V5c0-1.1-.9-2-2-2zM9 17H7v-7h2v7zm4 0h-2V7h2v10zm4 0h-2v-4h2v4z\"/>\n",
              "    </g>\n",
              "</svg>\n",
              "  </button>\n",
              "\n",
              "<style>\n",
              "  .colab-df-quickchart {\n",
              "      --bg-color: #E8F0FE;\n",
              "      --fill-color: #1967D2;\n",
              "      --hover-bg-color: #E2EBFA;\n",
              "      --hover-fill-color: #174EA6;\n",
              "      --disabled-fill-color: #AAA;\n",
              "      --disabled-bg-color: #DDD;\n",
              "  }\n",
              "\n",
              "  [theme=dark] .colab-df-quickchart {\n",
              "      --bg-color: #3B4455;\n",
              "      --fill-color: #D2E3FC;\n",
              "      --hover-bg-color: #434B5C;\n",
              "      --hover-fill-color: #FFFFFF;\n",
              "      --disabled-bg-color: #3B4455;\n",
              "      --disabled-fill-color: #666;\n",
              "  }\n",
              "\n",
              "  .colab-df-quickchart {\n",
              "    background-color: var(--bg-color);\n",
              "    border: none;\n",
              "    border-radius: 50%;\n",
              "    cursor: pointer;\n",
              "    display: none;\n",
              "    fill: var(--fill-color);\n",
              "    height: 32px;\n",
              "    padding: 0;\n",
              "    width: 32px;\n",
              "  }\n",
              "\n",
              "  .colab-df-quickchart:hover {\n",
              "    background-color: var(--hover-bg-color);\n",
              "    box-shadow: 0 1px 2px rgba(60, 64, 67, 0.3), 0 1px 3px 1px rgba(60, 64, 67, 0.15);\n",
              "    fill: var(--button-hover-fill-color);\n",
              "  }\n",
              "\n",
              "  .colab-df-quickchart-complete:disabled,\n",
              "  .colab-df-quickchart-complete:disabled:hover {\n",
              "    background-color: var(--disabled-bg-color);\n",
              "    fill: var(--disabled-fill-color);\n",
              "    box-shadow: none;\n",
              "  }\n",
              "\n",
              "  .colab-df-spinner {\n",
              "    border: 2px solid var(--fill-color);\n",
              "    border-color: transparent;\n",
              "    border-bottom-color: var(--fill-color);\n",
              "    animation:\n",
              "      spin 1s steps(1) infinite;\n",
              "  }\n",
              "\n",
              "  @keyframes spin {\n",
              "    0% {\n",
              "      border-color: transparent;\n",
              "      border-bottom-color: var(--fill-color);\n",
              "      border-left-color: var(--fill-color);\n",
              "    }\n",
              "    20% {\n",
              "      border-color: transparent;\n",
              "      border-left-color: var(--fill-color);\n",
              "      border-top-color: var(--fill-color);\n",
              "    }\n",
              "    30% {\n",
              "      border-color: transparent;\n",
              "      border-left-color: var(--fill-color);\n",
              "      border-top-color: var(--fill-color);\n",
              "      border-right-color: var(--fill-color);\n",
              "    }\n",
              "    40% {\n",
              "      border-color: transparent;\n",
              "      border-right-color: var(--fill-color);\n",
              "      border-top-color: var(--fill-color);\n",
              "    }\n",
              "    60% {\n",
              "      border-color: transparent;\n",
              "      border-right-color: var(--fill-color);\n",
              "    }\n",
              "    80% {\n",
              "      border-color: transparent;\n",
              "      border-right-color: var(--fill-color);\n",
              "      border-bottom-color: var(--fill-color);\n",
              "    }\n",
              "    90% {\n",
              "      border-color: transparent;\n",
              "      border-bottom-color: var(--fill-color);\n",
              "    }\n",
              "  }\n",
              "</style>\n",
              "\n",
              "  <script>\n",
              "    async function quickchart(key) {\n",
              "      const quickchartButtonEl =\n",
              "        document.querySelector('#' + key + ' button');\n",
              "      quickchartButtonEl.disabled = true;  // To prevent multiple clicks.\n",
              "      quickchartButtonEl.classList.add('colab-df-spinner');\n",
              "      try {\n",
              "        const charts = await google.colab.kernel.invokeFunction(\n",
              "            'suggestCharts', [key], {});\n",
              "      } catch (error) {\n",
              "        console.error('Error during call to suggestCharts:', error);\n",
              "      }\n",
              "      quickchartButtonEl.classList.remove('colab-df-spinner');\n",
              "      quickchartButtonEl.classList.add('colab-df-quickchart-complete');\n",
              "    }\n",
              "    (() => {\n",
              "      let quickchartButtonEl =\n",
              "        document.querySelector('#df-fc13418d-186e-4004-831a-ad695b391a2c button');\n",
              "      quickchartButtonEl.style.display =\n",
              "        google.colab.kernel.accessAllowed ? 'block' : 'none';\n",
              "    })();\n",
              "  </script>\n",
              "</div>\n",
              "\n",
              "    </div>\n",
              "  </div>\n"
            ],
            "application/vnd.google.colaboratory.intrinsic+json": {
              "type": "dataframe",
              "summary": "{\n  \"name\": \"winner_by_season[['season', 'winner']]\",\n  \"rows\": 13,\n  \"fields\": [\n    {\n      \"column\": \"season\",\n      \"properties\": {\n        \"dtype\": \"int32\",\n        \"num_unique_values\": 13,\n        \"samples\": [\n          2019,\n          2017,\n          2008\n        ],\n        \"semantic_type\": \"\",\n        \"description\": \"\"\n      }\n    },\n    {\n      \"column\": \"winner\",\n      \"properties\": {\n        \"dtype\": \"category\",\n        \"num_unique_values\": 6,\n        \"samples\": [\n          \"Rajasthan Royals\",\n          \"Deccan Chargers\",\n          \"Sunrisers Hyderabad\"\n        ],\n        \"semantic_type\": \"\",\n        \"description\": \"\"\n      }\n    }\n  ]\n}"
            }
          },
          "metadata": {},
          "execution_count": 64
        }
      ]
    },
    {
      "cell_type": "markdown",
      "source": [
        "### Q11 Which team has played the most number of matches?"
      ],
      "metadata": {
        "id": "npKF_vr7qPg5"
      }
    },
    {
      "cell_type": "code",
      "source": [
        "Most_played_team=Df_Merge_Ball_Clean3_uniqueId['team1'].value_counts() + Df_Merge_Ball_Clean3_uniqueId['team2'].value_counts()\n",
        "Most_played_team.sort_values(ascending=False)"
      ],
      "metadata": {
        "colab": {
          "base_uri": "https://localhost:8080/"
        },
        "id": "F_YasCMSqUFB",
        "outputId": "743607c7-3682-45f0-f184-1079804cb52b"
      },
      "execution_count": 65,
      "outputs": [
        {
          "output_type": "execute_result",
          "data": {
            "text/plain": [
              "Mumbai Indians                 203\n",
              "Royal Challengers Bangalore    195\n",
              "Kolkata Knight Riders          192\n",
              "Kings XI Punjab                190\n",
              "Chennai Super Kings            178\n",
              "Delhi Daredevils               161\n",
              "Rajasthan Royals               161\n",
              "Sunrisers Hyderabad            124\n",
              "Deccan Chargers                 75\n",
              "Pune Warriors                   46\n",
              "Delhi Capitals                  33\n",
              "Gujarat Lions                   30\n",
              "Rising Pune Supergiant          16\n",
              "Kochi Tuskers Kerala            14\n",
              "Rising Pune Supergiants         14\n",
              "Name: count, dtype: int64"
            ]
          },
          "metadata": {},
          "execution_count": 65
        }
      ]
    },
    {
      "cell_type": "markdown",
      "source": [
        "#### MI has played most number of matches"
      ],
      "metadata": {
        "id": "0Uk_7DRXt0_T"
      }
    },
    {
      "cell_type": "markdown",
      "source": [
        "### Q12 Which team has won the most number of times?"
      ],
      "metadata": {
        "id": "k6dBCTaIuQhE"
      }
    },
    {
      "cell_type": "code",
      "source": [
        "Most_winning_team=Df_Merge_Ball_Clean3_uniqueId['winner'].value_counts()\n",
        "Most_winning_team.sort_values(ascending=False)"
      ],
      "metadata": {
        "colab": {
          "base_uri": "https://localhost:8080/"
        },
        "id": "33oSIC-YuEJ-",
        "outputId": "87e266e2-a8f0-4c90-9692-9eee627160a1"
      },
      "execution_count": 66,
      "outputs": [
        {
          "output_type": "execute_result",
          "data": {
            "text/plain": [
              "winner\n",
              "Mumbai Indians                 120\n",
              "Chennai Super Kings            106\n",
              "Kolkata Knight Riders           99\n",
              "Royal Challengers Bangalore     91\n",
              "Kings XI Punjab                 88\n",
              "Rajasthan Royals                81\n",
              "Delhi Daredevils                67\n",
              "Sunrisers Hyderabad             66\n",
              "Deccan Chargers                 29\n",
              "Delhi Capitals                  19\n",
              "Gujarat Lions                   13\n",
              "Pune Warriors                   12\n",
              "Rising Pune Supergiant          10\n",
              "Kochi Tuskers Kerala             6\n",
              "Rising Pune Supergiants          5\n",
              "NA                               4\n",
              "Name: count, dtype: int64"
            ]
          },
          "metadata": {},
          "execution_count": 66
        }
      ]
    },
    {
      "cell_type": "markdown",
      "source": [
        "#### MI has most number of wins"
      ],
      "metadata": {
        "id": "EL5YQVgRul4z"
      }
    },
    {
      "cell_type": "markdown",
      "source": [
        "### Q13 Which team has the highest winning percentage?"
      ],
      "metadata": {
        "id": "4O2Z-buEuuBh"
      }
    },
    {
      "cell_type": "code",
      "source": [
        "# prompt: percentage of Most_winning_team to Most_played_team\n",
        "\n",
        "winning_percentage = (Most_winning_team / Most_played_team) * 100\n",
        "winning_percentage.sort_values(ascending=False)\n"
      ],
      "metadata": {
        "colab": {
          "base_uri": "https://localhost:8080/"
        },
        "id": "rHmLReEwukOi",
        "outputId": "363ca08b-9724-4c58-ed16-8c4cf35c4c68"
      },
      "execution_count": 67,
      "outputs": [
        {
          "output_type": "execute_result",
          "data": {
            "text/plain": [
              "Rising Pune Supergiant         62.500000\n",
              "Chennai Super Kings            59.550562\n",
              "Mumbai Indians                 59.113300\n",
              "Delhi Capitals                 57.575758\n",
              "Sunrisers Hyderabad            53.225806\n",
              "Kolkata Knight Riders          51.562500\n",
              "Rajasthan Royals               50.310559\n",
              "Royal Challengers Bangalore    46.666667\n",
              "Kings XI Punjab                46.315789\n",
              "Gujarat Lions                  43.333333\n",
              "Kochi Tuskers Kerala           42.857143\n",
              "Delhi Daredevils               41.614907\n",
              "Deccan Chargers                38.666667\n",
              "Rising Pune Supergiants        35.714286\n",
              "Pune Warriors                  26.086957\n",
              "NA                                   NaN\n",
              "Name: count, dtype: float64"
            ]
          },
          "metadata": {},
          "execution_count": 67
        }
      ]
    },
    {
      "cell_type": "markdown",
      "source": [
        "#### Rising Pune Supergiant winning % is high"
      ],
      "metadata": {
        "id": "n9-aqX4hw4wK"
      }
    },
    {
      "cell_type": "markdown",
      "source": [
        "### Q14 Is there any lucky venue for a particular team?"
      ],
      "metadata": {
        "id": "1FEGtcA7xCRO"
      }
    },
    {
      "cell_type": "markdown",
      "source": [
        "#### to find this need to calulate winning team  mode of venue"
      ],
      "metadata": {
        "id": "Y0UKybm-xOkc"
      }
    },
    {
      "cell_type": "code",
      "source": [
        "Df_Merge_Ball_Clean3_uniqueId.groupby('winner')['venue'].agg(pd.Series.mode)"
      ],
      "metadata": {
        "colab": {
          "base_uri": "https://localhost:8080/"
        },
        "id": "MmXDgNw0xJyy",
        "outputId": "ceadaac9-619e-4d02-c5a3-740e496fdbee"
      },
      "execution_count": 68,
      "outputs": [
        {
          "output_type": "execute_result",
          "data": {
            "text/plain": [
              "winner\n",
              "Chennai Super Kings                              MA Chidambaram Stadium, Chepauk\n",
              "Deccan Chargers                [Barabati Stadium, Rajiv Gandhi International ...\n",
              "Delhi Capitals                 [Dubai International Cricket Stadium, Feroz Sh...\n",
              "Delhi Daredevils                                                Feroz Shah Kotla\n",
              "Gujarat Lions                             Saurashtra Cricket Association Stadium\n",
              "Kings XI Punjab                       Punjab Cricket Association Stadium, Mohali\n",
              "Kochi Tuskers Kerala                                               Nehru Stadium\n",
              "Kolkata Knight Riders                                               Eden Gardens\n",
              "Mumbai Indians                                                  Wankhede Stadium\n",
              "NA                                                         M Chinnaswamy Stadium\n",
              "Pune Warriors                                         Subrata Roy Sahara Stadium\n",
              "Rajasthan Royals                                          Sawai Mansingh Stadium\n",
              "Rising Pune Supergiant                   Maharashtra Cricket Association Stadium\n",
              "Rising Pune Supergiants        Dr. Y.S. Rajasekhara Reddy ACA-VDCA Cricket St...\n",
              "Royal Challengers Bangalore                                M Chinnaswamy Stadium\n",
              "Sunrisers Hyderabad                    Rajiv Gandhi International Stadium, Uppal\n",
              "Name: venue, dtype: object"
            ]
          },
          "metadata": {},
          "execution_count": 68
        }
      ]
    },
    {
      "cell_type": "markdown",
      "source": [
        "### Q15 Innings wise comparison between teams"
      ],
      "metadata": {
        "id": "7rgb39EHzk7N"
      }
    },
    {
      "cell_type": "markdown",
      "source": [
        "###Q16 Which team has scored the most number of 200+ scores?Q17. Which team has conceded 200+ scores the most?"
      ],
      "metadata": {
        "id": "vBuATqayoE5v"
      }
    },
    {
      "cell_type": "code",
      "source": [
        "Most_2hundred=Df_Merge_Ball_Clean3.groupby(['batting_team','id'])['total_runs'].sum()\n",
        "Most_2hundred = Most_2hundred[Most_2hundred >= 200]\n",
        "Most_2hundred= Most_2hundred.groupby('batting_team').count()\n",
        "Most_2hundred= Most_2hundred.sort_values(ascending=False)\n",
        "Most_2hundred"
      ],
      "metadata": {
        "colab": {
          "base_uri": "https://localhost:8080/"
        },
        "id": "kup9Q8IRrC1k",
        "outputId": "4c753824-e46f-473a-a12b-c51f82c8881b"
      },
      "execution_count": 87,
      "outputs": [
        {
          "output_type": "execute_result",
          "data": {
            "text/plain": [
              "batting_team\n",
              "Royal Challengers Bangalore    19\n",
              "Chennai Super Kings            17\n",
              "Kings XI Punjab                14\n",
              "Mumbai Indians                 14\n",
              "Kolkata Knight Riders          12\n",
              "Sunrisers Hyderabad            12\n",
              "Rajasthan Royals                9\n",
              "Delhi Daredevils                5\n",
              "Delhi Capitals                  2\n",
              "Deccan Chargers                 1\n",
              "Gujarat Lions                   1\n",
              "Name: total_runs, dtype: int64"
            ]
          },
          "metadata": {},
          "execution_count": 87
        }
      ]
    },
    {
      "cell_type": "markdown",
      "source": [
        "#### RCB has most 200+ scores"
      ],
      "metadata": {
        "id": "1acvRkpwtH4h"
      }
    },
    {
      "cell_type": "markdown",
      "source": [
        "###Q18 What was the highest run scored by a team in a single match?"
      ],
      "metadata": {
        "id": "1ONUZiBPtRef"
      }
    },
    {
      "cell_type": "code",
      "source": [
        "High_run_scored=Df_Merge_Ball_Clean3.groupby(['batting_team','id'])['total_runs'].sum()\n",
        "High_run_scored.sort_values(ascending=False)"
      ],
      "metadata": {
        "colab": {
          "base_uri": "https://localhost:8080/"
        },
        "id": "08UQhabhtO0K",
        "outputId": "a667e0dd-e576-4bac-d5e9-4a619539f5aa"
      },
      "execution_count": 89,
      "outputs": [
        {
          "output_type": "execute_result",
          "data": {
            "text/plain": [
              "batting_team                 id     \n",
              "Royal Challengers Bangalore  598027     263\n",
              "                             980987     248\n",
              "Chennai Super Kings          419137     246\n",
              "Kolkata Knight Riders        1136604    245\n",
              "Chennai Super Kings          335983     240\n",
              "                                       ... \n",
              "Royal Challengers Bangalore  1082617     49\n",
              "Kolkata Knight Riders        1082648     48\n",
              "Sunrisers Hyderabad          733993      44\n",
              "Rajasthan Royals             1178424     41\n",
              "Royal Challengers Bangalore  829813       2\n",
              "Name: total_runs, Length: 1630, dtype: int64"
            ]
          },
          "metadata": {},
          "execution_count": 89
        }
      ]
    },
    {
      "cell_type": "markdown",
      "source": [
        "#### RCB has scored highest of induvidul match score is 263"
      ],
      "metadata": {
        "id": "gtF6MRSguqHs"
      }
    },
    {
      "cell_type": "markdown",
      "source": [
        "### Q19 Which is the biggest win in terms of run margin?"
      ],
      "metadata": {
        "id": "IvLFnmRGu0_Z"
      }
    },
    {
      "cell_type": "code",
      "source": [
        "Big_run_diff=Df_Merge_Ball_Clean3.groupby(['batting_team','id'])['result_margin'].max()\n",
        "Big_run_diff = Big_run_diff.sort_values(ascending=False)\n",
        "Big_run_diff"
      ],
      "metadata": {
        "colab": {
          "base_uri": "https://localhost:8080/"
        },
        "id": "izRy8PH6uzjU",
        "outputId": "a127f9f4-cc10-4b99-8c60-f4165faa49bc"
      },
      "execution_count": 100,
      "outputs": [
        {
          "output_type": "execute_result",
          "data": {
            "text/plain": [
              "batting_team                 id     \n",
              "Delhi Daredevils             1082635    146.0\n",
              "Mumbai Indians               1082635    146.0\n",
              "Gujarat Lions                980987     144.0\n",
              "Royal Challengers Bangalore  980987     144.0\n",
              "Kolkata Knight Riders        335982     140.0\n",
              "                                        ...  \n",
              "Delhi Daredevils             829813       0.0\n",
              "Kolkata Knight Riders        1175365      0.0\n",
              "Rajasthan Royals             1178424      0.0\n",
              "Mumbai Indians               1082625      0.0\n",
              "Rajasthan Royals             729315       0.0\n",
              "Name: result_margin, Length: 1630, dtype: float64"
            ]
          },
          "metadata": {},
          "execution_count": 100
        }
      ]
    },
    {
      "cell_type": "markdown",
      "source": [
        "#### Delhi Daredevils had big win in terms of run margine"
      ],
      "metadata": {
        "id": "JBu2Rbarxe3e"
      }
    },
    {
      "cell_type": "markdown",
      "source": [
        "###Q20 Which batsmen have played the most number of balls? (I consider per match)"
      ],
      "metadata": {
        "id": "h09NkQ-pxrsY"
      }
    },
    {
      "cell_type": "code",
      "source": [
        "Most_balls_played=Df_Merge_Ball_Clean3.groupby(['batsman','id'])['ball'].count()\n",
        "Most_balls_played=Most_balls_played.sort_values(ascending=False)\n",
        "Most_balls_played"
      ],
      "metadata": {
        "colab": {
          "base_uri": "https://localhost:8080/"
        },
        "id": "BngVvgvGxqN-",
        "outputId": "a05f27e6-3599-488b-ad6c-b800d0522b92"
      },
      "execution_count": 103,
      "outputs": [
        {
          "output_type": "execute_result",
          "data": {
            "text/plain": [
              "batsman         id     \n",
              "BB McCullum     335982     77\n",
              "MK Pandey       392236     74\n",
              "DA Warner       419131     72\n",
              "AM Rahane       548309     72\n",
              "SE Marsh        336019     72\n",
              "                           ..\n",
              "MJ McClenaghan  829751      1\n",
              "DW Steyn        598018      1\n",
              "SW Tait         501214      1\n",
              "R Ashwin        981005      1\n",
              "Z Khan          1082646     1\n",
              "Name: ball, Length: 12162, dtype: int64"
            ]
          },
          "metadata": {},
          "execution_count": 103
        }
      ]
    },
    {
      "cell_type": "markdown",
      "source": [
        "#### BB McCullum has played most number of balls (77) of a match"
      ],
      "metadata": {
        "id": "AgwJn7SjyYNV"
      }
    },
    {
      "cell_type": "markdown",
      "source": [
        "### Q21. Who are the leading run-scorers of all time?"
      ],
      "metadata": {
        "id": "LX9gfThdyo71"
      }
    },
    {
      "cell_type": "code",
      "source": [
        "Most_runs_scored_all=Df_Merge_Ball_Clean3.groupby(['batsman'])['batsman_runs'].sum()\n",
        "Most_runs_scored_all=Most_runs_scored_all.sort_values(ascending=False)\n",
        "Most_runs_scored_all"
      ],
      "metadata": {
        "colab": {
          "base_uri": "https://localhost:8080/"
        },
        "id": "VcKXaRosynq2",
        "outputId": "d8b77166-b2ea-4e55-be56-a4f273440cbe"
      },
      "execution_count": 108,
      "outputs": [
        {
          "output_type": "execute_result",
          "data": {
            "text/plain": [
              "batsman\n",
              "V Kohli           5878\n",
              "SK Raina          5368\n",
              "DA Warner         5254\n",
              "RG Sharma         5230\n",
              "S Dhawan          5197\n",
              "                  ... \n",
              "IC Pandey            0\n",
              "S Kaushik            0\n",
              "ND Doshi             0\n",
              "V Pratap Singh       0\n",
              "Abdur Razzak         0\n",
              "Name: batsman_runs, Length: 537, dtype: int64"
            ]
          },
          "metadata": {},
          "execution_count": 108
        }
      ]
    },
    {
      "cell_type": "markdown",
      "source": [
        "#### virat Kohli has total heighest 5878"
      ],
      "metadata": {
        "id": "JkCQOkjmziQm"
      }
    },
    {
      "cell_type": "markdown",
      "source": [
        "### Q22 Who has hit the most number of 4's?"
      ],
      "metadata": {
        "id": "sZBPxEWDzttA"
      }
    },
    {
      "cell_type": "code",
      "source": [
        "Most_4s_batsman= Df_Merge_Ball_Clean3[Df_Merge_Ball_Clean3['batsman_runs'] == 4].groupby('batsman')['batsman_runs'].count()\n",
        "Most_4s_batsman = Most_4s_batsman.sort_values(ascending=False)\n",
        "Most_4s_batsman"
      ],
      "metadata": {
        "colab": {
          "base_uri": "https://localhost:8080/"
        },
        "id": "ssEUOK92ztRz",
        "outputId": "644980e0-b2b4-42cb-8cbc-d0152bb9d04a"
      },
      "execution_count": 117,
      "outputs": [
        {
          "output_type": "execute_result",
          "data": {
            "text/plain": [
              "batsman\n",
              "S Dhawan          591\n",
              "DA Warner         510\n",
              "V Kohli           504\n",
              "SK Raina          493\n",
              "G Gambhir         492\n",
              "                 ... \n",
              "DM Bravo            1\n",
              "M Muralitharan      1\n",
              "J Theron            1\n",
              "UA Birla            1\n",
              "SD Lad              1\n",
              "Name: batsman_runs, Length: 424, dtype: int64"
            ]
          },
          "metadata": {},
          "execution_count": 117
        }
      ]
    },
    {
      "cell_type": "markdown",
      "source": [
        "#### S Dhawan has hit most number of 4s"
      ],
      "metadata": {
        "id": "JRrxUm5r32gk"
      }
    },
    {
      "cell_type": "markdown",
      "source": [
        "### Q23 Who has hit the most number of 6's?"
      ],
      "metadata": {
        "id": "dTRLrykM4BRc"
      }
    },
    {
      "cell_type": "code",
      "source": [
        "Most_6s_batsman= Df_Merge_Ball_Clean3[Df_Merge_Ball_Clean3['batsman_runs'] == 6].groupby('batsman')['batsman_runs'].count()\n",
        "Most_6s_batsman = Most_6s_batsman.sort_values(ascending=False)\n",
        "Most_6s_batsman"
      ],
      "metadata": {
        "colab": {
          "base_uri": "https://localhost:8080/"
        },
        "id": "dIKV_nO7zo-A",
        "outputId": "8eec40bd-85b5-464d-dcdf-3cbf24f25b02"
      },
      "execution_count": 118,
      "outputs": [
        {
          "output_type": "execute_result",
          "data": {
            "text/plain": [
              "batsman\n",
              "CH Gayle           349\n",
              "AB de Villiers     235\n",
              "MS Dhoni           216\n",
              "RG Sharma          214\n",
              "V Kohli            202\n",
              "                  ... \n",
              "SN Thakur            1\n",
              "JJ van der Wath      1\n",
              "Basil Thampi         1\n",
              "R McLaren            1\n",
              "MN van Wyk           1\n",
              "Name: batsman_runs, Length: 351, dtype: int64"
            ]
          },
          "metadata": {},
          "execution_count": 118
        }
      ]
    },
    {
      "cell_type": "markdown",
      "source": [
        "#### CH Gayle has hit most 6s"
      ],
      "metadata": {
        "id": "FyRFAsaB4Rln"
      }
    },
    {
      "cell_type": "markdown",
      "source": [
        "### Q24 Who has the highest strike rate?"
      ],
      "metadata": {
        "id": "4Ntf0veE4mds"
      }
    },
    {
      "cell_type": "code",
      "source": [
        "Most_balls_played=Df_Merge_Ball_Clean3.groupby(['batsman'])['batsman_runs'].count()\n",
        "Most_runs_scored=Df_Merge_Ball_Clean3.groupby(['batsman'])['batsman_runs'].sum()\n",
        "#Most_ballsplayed_all=Most_balls_played.groupby('batsman').count()\n",
        "Strike_rate = (Most_runs_scored / Most_balls_played) * 100\n",
        "Strike_rate = Strike_rate.sort_values(ascending=False)\n",
        "Strike_rate"
      ],
      "metadata": {
        "colab": {
          "base_uri": "https://localhost:8080/"
        },
        "id": "bVhwBMSt5CN4",
        "outputId": "ad988edb-f28e-4bd8-ed2f-bb03104d768e"
      },
      "execution_count": 129,
      "outputs": [
        {
          "output_type": "execute_result",
          "data": {
            "text/plain": [
              "batsman\n",
              "B Stanlake        250.000000\n",
              "Umar Gul          205.263158\n",
              "RS Sodhi          200.000000\n",
              "Shahid Afridi     176.086957\n",
              "I Malhotra        175.000000\n",
              "                     ...    \n",
              "Sunny Gupta         0.000000\n",
              "C Nanda             0.000000\n",
              "U Kaul              0.000000\n",
              "Arshdeep Singh      0.000000\n",
              "RR Bhatkal          0.000000\n",
              "Name: batsman_runs, Length: 537, dtype: float64"
            ]
          },
          "metadata": {},
          "execution_count": 129
        }
      ]
    },
    {
      "cell_type": "markdown",
      "source": [
        "#### B Stanlake has highest SRate"
      ],
      "metadata": {
        "id": "JakFF0i09siG"
      }
    },
    {
      "cell_type": "markdown",
      "source": [
        "###Q25 Who is the leading wicket-taker?"
      ],
      "metadata": {
        "id": "Kz9_2T-q4mEA"
      }
    },
    {
      "cell_type": "code",
      "source": [
        "# Set 'dismissal_kind' as an index level before filtering\n",
        "Df_Merge_Ball_Clean_Wicket = Df_Merge_Ball_Clean3.set_index('dismissal_kind', append=True)\n",
        "Most_wickets_taken = Df_Merge_Ball_Clean_Wicket[~Df_Merge_Ball_Clean_Wicket.index.get_level_values('dismissal_kind').isin(['not out', 'run out'])]\n",
        "Most_wickets_taken=  Most_wickets_taken.groupby('bowler')['is_wicket'].sum()\n",
        "Most_wickets_taken = Most_wickets_taken.sort_values(ascending=False)\n",
        "Most_wickets_taken"
      ],
      "metadata": {
        "colab": {
          "base_uri": "https://localhost:8080/"
        },
        "id": "oMLJw_Vj9482",
        "outputId": "22097965-32ac-41aa-fe30-f0d58f3fec01"
      },
      "execution_count": 152,
      "outputs": [
        {
          "output_type": "execute_result",
          "data": {
            "text/plain": [
              "bowler\n",
              "SL Malinga          170\n",
              "A Mishra            160\n",
              "PP Chawla           156\n",
              "DJ Bravo            153\n",
              "Harbhajan Singh     150\n",
              "                   ... \n",
              "CJ McKay              1\n",
              "PM Sarvesh Kumar      1\n",
              "GH Vihari             1\n",
              "TP Sudhindra          1\n",
              "S Vidyut              1\n",
              "Name: is_wicket, Length: 360, dtype: int64"
            ]
          },
          "metadata": {},
          "execution_count": 152
        }
      ]
    },
    {
      "cell_type": "markdown",
      "source": [
        "#### Malinga is the leading wicket taker"
      ],
      "metadata": {
        "id": "2aBFVKKZFYNE"
      }
    },
    {
      "cell_type": "markdown",
      "source": [
        "### Q26 Which stadium has hosted the most number of matches?"
      ],
      "metadata": {
        "id": "vIurMOxj4ld3"
      }
    },
    {
      "cell_type": "code",
      "source": [
        "most_venue=Df_Merge_Ball_Clean3.groupby('venue')['id'].nunique()\n",
        "most_venue = most_venue.sort_values(ascending=False)\n",
        "most_venue"
      ],
      "metadata": {
        "colab": {
          "base_uri": "https://localhost:8080/"
        },
        "id": "hw_oAI_p4Y_t",
        "outputId": "843a9c51-6d3f-4093-875e-37ec3f29fb9b"
      },
      "execution_count": 162,
      "outputs": [
        {
          "output_type": "execute_result",
          "data": {
            "text/plain": [
              "venue\n",
              "Eden Gardens                                            77\n",
              "Feroz Shah Kotla                                        74\n",
              "Wankhede Stadium                                        73\n",
              "M Chinnaswamy Stadium                                   65\n",
              "Rajiv Gandhi International Stadium, Uppal               64\n",
              "MA Chidambaram Stadium, Chepauk                         57\n",
              "Sawai Mansingh Stadium                                  47\n",
              "Punjab Cricket Association Stadium, Mohali              35\n",
              "Dubai International Cricket Stadium                     33\n",
              "Sheikh Zayed Stadium                                    29\n",
              "Punjab Cricket Association IS Bindra Stadium, Mohali    21\n",
              "Maharashtra Cricket Association Stadium                 21\n",
              "Sharjah Cricket Stadium                                 18\n",
              "Subrata Roy Sahara Stadium                              17\n",
              "Dr DY Patil Sports Academy                              17\n",
              "Kingsmead                                               15\n",
              "M.Chinnaswamy Stadium                                   15\n",
              "Dr. Y.S. Rajasekhara Reddy ACA-VDCA Cricket Stadium     13\n",
              "SuperSport Park                                         12\n",
              "Sardar Patel Stadium, Motera                            12\n",
              "Brabourne Stadium                                       11\n",
              "Saurashtra Cricket Association Stadium                  10\n",
              "Holkar Cricket Stadium                                   9\n",
              "Himachal Pradesh Cricket Association Stadium             9\n",
              "New Wanderers Stadium                                    8\n",
              "St George's Park                                         7\n",
              "Barabati Stadium                                         7\n",
              "Newlands                                                 7\n",
              "JSCA International Stadium Complex                       7\n",
              "Shaheed Veer Narayan Singh International Stadium         6\n",
              "Nehru Stadium                                            5\n",
              "Green Park                                               4\n",
              "De Beers Diamond Oval                                    3\n",
              "Buffalo Park                                             3\n",
              "Vidarbha Cricket Association Stadium, Jamtha             3\n",
              "OUTsurance Oval                                          2\n",
              "Name: id, dtype: int64"
            ]
          },
          "metadata": {},
          "execution_count": 162
        }
      ]
    },
    {
      "cell_type": "markdown",
      "source": [
        "#### Eden Gardens hosted most matches"
      ],
      "metadata": {
        "id": "bWtY9BmmH0kB"
      }
    },
    {
      "cell_type": "markdown",
      "source": [
        "### Q27 Who has won the most MOM awards?"
      ],
      "metadata": {
        "id": "oiYntMuAH76J"
      }
    },
    {
      "cell_type": "code",
      "source": [
        "player_of_match=Df_Merge_Ball_Clean3.groupby('player_of_match')['id'].nunique()\n",
        "player_of_match = player_of_match.sort_values(ascending=False)\n",
        "player_of_match"
      ],
      "metadata": {
        "colab": {
          "base_uri": "https://localhost:8080/"
        },
        "id": "YEETZvgZMrp5",
        "outputId": "3b448617-25dc-4b52-bd95-6ec95a5a5c63"
      },
      "execution_count": 177,
      "outputs": [
        {
          "output_type": "execute_result",
          "data": {
            "text/plain": [
              "player_of_match\n",
              "AB de Villiers    23\n",
              "CH Gayle          22\n",
              "RG Sharma         18\n",
              "DA Warner         17\n",
              "MS Dhoni          17\n",
              "                  ..\n",
              "J Theron           1\n",
              "P Parameswaran     1\n",
              "JC Archer          1\n",
              "NV Ojha            1\n",
              "A Chandila         1\n",
              "Name: id, Length: 234, dtype: int64"
            ]
          },
          "metadata": {},
          "execution_count": 177
        }
      ]
    },
    {
      "cell_type": "markdown",
      "source": [
        "### Q28 What is the count of fours hit in each season?"
      ],
      "metadata": {
        "id": "ijxiI_7wH9t-"
      }
    },
    {
      "cell_type": "code",
      "source": [
        "total_4s_season= Df_Merge_Ball_Clean3[Df_Merge_Ball_Clean3['batsman_runs'] == 4].groupby('season')['batsman_runs'].count()\n",
        "total_4s_season = total_4s_season.sort_index(ascending=True)\n",
        "total_4s_season"
      ],
      "metadata": {
        "colab": {
          "base_uri": "https://localhost:8080/"
        },
        "id": "73bCYxvnIYd8",
        "outputId": "a8b5a178-1541-49ec-fa80-26790bf7f28a"
      },
      "execution_count": 174,
      "outputs": [
        {
          "output_type": "execute_result",
          "data": {
            "text/plain": [
              "season\n",
              "2008    1703\n",
              "2009    1317\n",
              "2010    1708\n",
              "2011    1916\n",
              "2012    1911\n",
              "2013    2052\n",
              "2014    1562\n",
              "2015    1607\n",
              "2016    1633\n",
              "2017    1611\n",
              "2018    1652\n",
              "2019    1653\n",
              "2020    1583\n",
              "Name: batsman_runs, dtype: int64"
            ]
          },
          "metadata": {},
          "execution_count": 174
        }
      ]
    },
    {
      "cell_type": "markdown",
      "source": [
        "### Q29 What is the count of sixes hit in each season?"
      ],
      "metadata": {
        "id": "_LVEoqt9H__d"
      }
    },
    {
      "cell_type": "code",
      "source": [
        "total_6s_season= Df_Merge_Ball_Clean3[Df_Merge_Ball_Clean3['batsman_runs'] == 6].groupby('season')['batsman_runs'].count()\n",
        "Most_6s_season = Most_6s_season.sort_index(ascending=True)\n",
        "Most_6s_season"
      ],
      "metadata": {
        "colab": {
          "base_uri": "https://localhost:8080/"
        },
        "id": "Kmeh-sPwJQjk",
        "outputId": "3d17dc1e-cd4a-40aa-a3a1-ba63e82aed0a"
      },
      "execution_count": 169,
      "outputs": [
        {
          "output_type": "execute_result",
          "data": {
            "text/plain": [
              "season\n",
              "2008    623\n",
              "2009    506\n",
              "2010    585\n",
              "2011    639\n",
              "2012    733\n",
              "2013    675\n",
              "2014    714\n",
              "2015    692\n",
              "2016    639\n",
              "2017    705\n",
              "2018    872\n",
              "2019    784\n",
              "2020    735\n",
              "Name: batsman_runs, dtype: int64"
            ]
          },
          "metadata": {},
          "execution_count": 169
        }
      ]
    },
    {
      "cell_type": "markdown",
      "source": [
        "### Q30 What is the count of runs scored from boundaries in each season?"
      ],
      "metadata": {
        "id": "tzBtuim-IUGI"
      }
    },
    {
      "cell_type": "markdown",
      "source": [],
      "metadata": {
        "id": "R73YxCB9KHuy"
      }
    },
    {
      "cell_type": "code",
      "source": [
        "total_boundaries_season= Df_Merge_Ball_Clean3[(Df_Merge_Ball_Clean3['batsman_runs'] == 6) | (Df_Merge_Ball_Clean3['batsman_runs']== 4)].groupby('season')['batsman_runs'].count()\n",
        "total_boundaries_season = total_boundaries_season.sort_index(ascending=True)\n",
        "total_boundaries_season"
      ],
      "metadata": {
        "colab": {
          "base_uri": "https://localhost:8080/"
        },
        "id": "RRCZggBeJerg",
        "outputId": "83637ac6-2a62-4874-95ad-1f245e2b73df"
      },
      "execution_count": 175,
      "outputs": [
        {
          "output_type": "execute_result",
          "data": {
            "text/plain": [
              "season\n",
              "2008    2326\n",
              "2009    1823\n",
              "2010    2293\n",
              "2011    2555\n",
              "2012    2644\n",
              "2013    2727\n",
              "2014    2276\n",
              "2015    2299\n",
              "2016    2272\n",
              "2017    2316\n",
              "2018    2524\n",
              "2019    2437\n",
              "2020    2318\n",
              "Name: batsman_runs, dtype: int64"
            ]
          },
          "metadata": {},
          "execution_count": 175
        }
      ]
    },
    {
      "cell_type": "markdown",
      "source": [
        "### Q31 What is the run contribution from boundaries in each season?"
      ],
      "metadata": {
        "id": "1OjJt1KXH_sQ"
      }
    },
    {
      "cell_type": "code",
      "source": [
        "total_boundaries_season= Df_Merge_Ball_Clean3[(Df_Merge_Ball_Clean3['batsman_runs'] == 6) | (Df_Merge_Ball_Clean3['batsman_runs']== 4)].groupby('season')['batsman_runs'].sum()\n",
        "#total_boundaries_season = total_boundaries_season.sort_index(ascending=True)\n",
        "#total_boundaries_season\n",
        "total_runs_season= Df_Merge_Ball_Clean3.groupby('season')['batsman_runs'].sum()\n",
        "#total_runs_season = total_runs_season.sort_index(ascending=True)\n",
        "contribution= total_boundaries_season/total_runs_season * 100\n",
        "contribution"
      ],
      "metadata": {
        "colab": {
          "base_uri": "https://localhost:8080/"
        },
        "id": "9CyumvgWKwzh",
        "outputId": "f2d18840-b26f-40ff-989d-0bf789af4884"
      },
      "execution_count": 176,
      "outputs": [
        {
          "output_type": "execute_result",
          "data": {
            "text/plain": [
              "season\n",
              "2008    62.763995\n",
              "2009    54.118874\n",
              "2010    58.314068\n",
              "2011    57.697712\n",
              "2012    56.474230\n",
              "2013    57.208195\n",
              "2014    58.765763\n",
              "2015    60.773163\n",
              "2016    57.710723\n",
              "2017    59.607975\n",
              "2018    61.996021\n",
              "2019    60.927152\n",
              "2020    58.039767\n",
              "Name: batsman_runs, dtype: float64"
            ]
          },
          "metadata": {},
          "execution_count": 176
        }
      ]
    },
    {
      "cell_type": "markdown",
      "source": [
        "### Q32 Which team has scored the most runs in the first 6 overs?"
      ],
      "metadata": {
        "id": "1cVCu0voH--4"
      }
    },
    {
      "cell_type": "code",
      "source": [
        "score_6over= Df_Merge_Ball_Clean3[Df_Merge_Ball_Clean3['over'] <= 6].groupby('batting_team')['total_runs'].sum()\n",
        "score_6over = score_6over.sort_values(ascending=False)\n",
        "score_6over"
      ],
      "metadata": {
        "colab": {
          "base_uri": "https://localhost:8080/"
        },
        "id": "fAsFTa_iM6nP",
        "outputId": "47095ac4-3970-45bb-c20d-f202c524b312"
      },
      "execution_count": 179,
      "outputs": [
        {
          "output_type": "execute_result",
          "data": {
            "text/plain": [
              "batting_team\n",
              "Mumbai Indians                 10476\n",
              "Kings XI Punjab                10248\n",
              "Kolkata Knight Riders          10172\n",
              "Royal Challengers Bangalore     9909\n",
              "Chennai Super Kings             9266\n",
              "Delhi Daredevils                8492\n",
              "Rajasthan Royals                8231\n",
              "Sunrisers Hyderabad             6700\n",
              "Deccan Chargers                 3889\n",
              "Pune Warriors                   2141\n",
              "Gujarat Lions                   1812\n",
              "Delhi Capitals                  1788\n",
              "Rising Pune Supergiant           877\n",
              "Kochi Tuskers Kerala             769\n",
              "Rising Pune Supergiants          744\n",
              "Name: total_runs, dtype: int64"
            ]
          },
          "metadata": {},
          "execution_count": 179
        }
      ]
    },
    {
      "cell_type": "markdown",
      "source": [
        "#### MI has scored most runs in first 6 overs"
      ],
      "metadata": {
        "id": "OMcDrIRYQJ5B"
      }
    },
    {
      "cell_type": "markdown",
      "source": [
        "### Q33 Which team has scored the most runs in the last 4 overs?"
      ],
      "metadata": {
        "id": "gRM6woeOH-f-"
      }
    },
    {
      "cell_type": "code",
      "source": [
        "score_4over= Df_Merge_Ball_Clean3[Df_Merge_Ball_Clean3['over'] >16].groupby('batting_team')['total_runs'].sum()\n",
        "score_4over = score_4over.sort_values(ascending=False)\n",
        "score_4over"
      ],
      "metadata": {
        "colab": {
          "base_uri": "https://localhost:8080/"
        },
        "id": "5mBLmLOSONXX",
        "outputId": "98b589d1-caec-4f52-e13c-13a94d907fde"
      },
      "execution_count": 180,
      "outputs": [
        {
          "output_type": "execute_result",
          "data": {
            "text/plain": [
              "batting_team\n",
              "Mumbai Indians                 5708\n",
              "Royal Challengers Bangalore    5099\n",
              "Chennai Super Kings            5045\n",
              "Kings XI Punjab                4649\n",
              "Kolkata Knight Riders          4508\n",
              "Delhi Daredevils               3709\n",
              "Rajasthan Royals               3662\n",
              "Sunrisers Hyderabad            3198\n",
              "Deccan Chargers                1837\n",
              "Pune Warriors                  1037\n",
              "Delhi Capitals                  855\n",
              "Gujarat Lions                   663\n",
              "Rising Pune Supergiant          443\n",
              "Rising Pune Supergiants         330\n",
              "Kochi Tuskers Kerala            255\n",
              "Name: total_runs, dtype: int64"
            ]
          },
          "metadata": {},
          "execution_count": 180
        }
      ]
    },
    {
      "cell_type": "markdown",
      "source": [
        "#### MI has scored most runs in last 4 overs"
      ],
      "metadata": {
        "id": "Z7fvfs3nQuNb"
      }
    },
    {
      "cell_type": "markdown",
      "source": [
        "### Q34 Which team has the best scoring run-rate in the first 6 overs?"
      ],
      "metadata": {
        "id": "0pSzlW_lOnJB"
      }
    },
    {
      "cell_type": "code",
      "source": [
        "score_6over_runs= Df_Merge_Ball_Clean3[Df_Merge_Ball_Clean3['over'] <= 6].groupby('batting_team')['total_runs'].sum()\n",
        "score_6over_count =  Df_Merge_Ball_Clean3[Df_Merge_Ball_Clean3['over'] <= 6].groupby('batting_team')['total_runs'].count()\n",
        "score_6over_rate = (score_6over_runs / score_6over_count) * 100\n",
        "score_6over_rate = score_6over_rate.sort_values(ascending=False)\n",
        "score_6over_rate"
      ],
      "metadata": {
        "colab": {
          "base_uri": "https://localhost:8080/"
        },
        "id": "tIwYCJNcH6eG",
        "outputId": "b63b3127-0020-4da0-ad2c-a54d1cd0db7e"
      },
      "execution_count": 181,
      "outputs": [
        {
          "output_type": "execute_result",
          "data": {
            "text/plain": [
              "batting_team\n",
              "Gujarat Lions                  138.426280\n",
              "Rising Pune Supergiant         125.824964\n",
              "Delhi Capitals                 125.297828\n",
              "Sunrisers Hyderabad            124.258160\n",
              "Kings XI Punjab                123.768116\n",
              "Kochi Tuskers Kerala           123.633441\n",
              "Rising Pune Supergiants        122.167488\n",
              "Kolkata Knight Riders          121.514753\n",
              "Delhi Daredevils               121.245003\n",
              "Chennai Super Kings            119.592153\n",
              "Rajasthan Royals               118.722054\n",
              "Deccan Chargers                118.639414\n",
              "Mumbai Indians                 117.721092\n",
              "Royal Challengers Bangalore    117.516603\n",
              "Pune Warriors                  109.346272\n",
              "Name: total_runs, dtype: float64"
            ]
          },
          "metadata": {},
          "execution_count": 181
        }
      ]
    },
    {
      "cell_type": "markdown",
      "source": [
        "#### Gujarat Lions has scored most Runrate in first 6 overs"
      ],
      "metadata": {
        "id": "JZdrX36jQXhc"
      }
    },
    {
      "cell_type": "markdown",
      "source": [
        "### Q35 Which team has the best scoring run-rate in the last 4 overs?"
      ],
      "metadata": {
        "id": "SZpc5VeYPanN"
      }
    },
    {
      "cell_type": "code",
      "source": [
        "score_4over_runs= Df_Merge_Ball_Clean3[Df_Merge_Ball_Clean3['over'] > 16].groupby('batting_team')['total_runs'].sum()\n",
        "score_4over_count =  Df_Merge_Ball_Clean3[Df_Merge_Ball_Clean3['over'] > 16].groupby('batting_team')['total_runs'].count()\n",
        "score_4over_rate = (score_4over_runs / score_4over_count) * 100\n",
        "score_4over_rate = score_4over_rate.sort_values(ascending=False)\n",
        "score_4over_rate"
      ],
      "metadata": {
        "colab": {
          "base_uri": "https://localhost:8080/"
        },
        "id": "Z74navZSPaPR",
        "outputId": "2a2dcbb4-e5ab-47db-e49b-e0d5bfb815b3"
      },
      "execution_count": 183,
      "outputs": [
        {
          "output_type": "execute_result",
          "data": {
            "text/plain": [
              "batting_team\n",
              "Rising Pune Supergiants        177.419355\n",
              "Royal Challengers Bangalore    177.294854\n",
              "Chennai Super Kings            175.539318\n",
              "Mumbai Indians                 174.343311\n",
              "Rising Pune Supergiant         170.384615\n",
              "Delhi Daredevils               164.698046\n",
              "Sunrisers Hyderabad            162.582613\n",
              "Kolkata Knight Riders          161.461318\n",
              "Kings XI Punjab                156.531987\n",
              "Delhi Capitals                 156.021898\n",
              "Rajasthan Royals               153.478625\n",
              "Gujarat Lions                  151.369863\n",
              "Deccan Chargers                150.944947\n",
              "Kochi Tuskers Kerala           146.551724\n",
              "Pune Warriors                  142.054795\n",
              "Name: total_runs, dtype: float64"
            ]
          },
          "metadata": {},
          "execution_count": 183
        }
      ]
    },
    {
      "cell_type": "markdown",
      "source": [
        "#### Rising Pune Supergiants has scored most Runrate in first 6 overs"
      ],
      "metadata": {
        "id": "zmDsJ-o3QiP3"
      }
    }
  ]
}